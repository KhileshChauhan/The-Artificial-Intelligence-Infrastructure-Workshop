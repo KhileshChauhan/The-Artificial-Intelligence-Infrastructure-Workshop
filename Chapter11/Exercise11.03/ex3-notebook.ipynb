{
 "cells": [
  {
   "cell_type": "code",
   "execution_count": 1,
   "metadata": {},
   "outputs": [],
   "source": [
    "# import modules\n",
    "import numpy as np\n",
    "import torch\n",
    "import torch.optim as optim\n",
    "import torch.nn as nn\n",
    "from torch.utils.data import DataLoader, TensorDataset, random_split\n",
    "import matplotlib.pyplot as plt\n",
    "\n",
    "plt.style.use('ggplot')\n",
    "device = 'cuda' if torch.cuda.is_available() else 'cpu'"
   ]
  },
  {
   "cell_type": "code",
   "execution_count": 2,
   "metadata": {},
   "outputs": [],
   "source": [
    "# generate synthetic data for linear regression\n",
    "# set random seed\n",
    "np.random.seed(9)\n",
    "# draw 100 random numbers from uniform dist [0, 1]\n",
    "x = np.random.uniform(0, 1, (100, 1))\n",
    "# draw random noise from standard normal\n",
    "z = np.random.normal(0, .1, (100, 1))\n",
    "# create ground truth for y = 8x - 3\n",
    "y = 3 * x - 1 + z"
   ]
  },
  {
   "cell_type": "code",
   "execution_count": 3,
   "metadata": {},
   "outputs": [
    {
     "name": "stdout",
     "output_type": "stream",
     "text": [
      "(tensor([0.0104]), tensor([-1.0155]))\n"
     ]
    }
   ],
   "source": [
    "# move data from numpy to torch\n",
    "x_tensor = torch.from_numpy(x).float().to(device)\n",
    "y_tensor = torch.from_numpy(y).float().to(device)\n",
    "# create tensor dataset from tensor\n",
    "dataset = TensorDataset(x_tensor, y_tensor)\n",
    "print(dataset[0])"
   ]
  },
  {
   "cell_type": "code",
   "execution_count": 4,
   "metadata": {},
   "outputs": [],
   "source": [
    "# split data into train and eval\n",
    "train_dataset, val_dataset = random_split(dataset, [80, 20])\n",
    "# create data loader\n",
    "train_loader = DataLoader(dataset=train_dataset, batch_size=8)\n",
    "val_loader = DataLoader(dataset=val_dataset, batch_size=10)"
   ]
  },
  {
   "cell_type": "code",
   "execution_count": 5,
   "metadata": {},
   "outputs": [],
   "source": [
    "# define our linear regression model in pytorch\n",
    "class LinearRegression(nn.Module):\n",
    "    def __init__(self):\n",
    "        super().__init__()\n",
    "        self.linear = nn.Linear(1, 1)\n",
    "                \n",
    "    def forward(self, x):\n",
    "        return self.linear(x)"
   ]
  },
  {
   "cell_type": "code",
   "execution_count": 6,
   "metadata": {},
   "outputs": [
    {
     "name": "stdout",
     "output_type": "stream",
     "text": [
      "OrderedDict([('linear.weight', tensor([[-0.2719]])), ('linear.bias', tensor([0.0172]))])\n"
     ]
    }
   ],
   "source": [
    "# initialize our model\n",
    "model = LinearRegression().to(device)\n",
    "# state_dict() contains the parameters of the model\n",
    "print(model.state_dict())"
   ]
  },
  {
   "cell_type": "code",
   "execution_count": 7,
   "metadata": {},
   "outputs": [],
   "source": [
    "# set training routine\n",
    "lr = 1e-1\n",
    "n_epochs = 50\n",
    "\n",
    "# create loss function and optimizer\n",
    "loss_fn = nn.MSELoss(reduction='mean')\n",
    "optimizer = optim.SGD(model.parameters(), lr=lr)"
   ]
  },
  {
   "cell_type": "code",
   "execution_count": 8,
   "metadata": {},
   "outputs": [],
   "source": [
    "def train_one_batch(model, loss_fn, optimizer, x_batch, y_batch):\n",
    "    model.train()\n",
    "    # forward pass\n",
    "    yhat = model(x_batch)\n",
    "    # calculate training loss\n",
    "    loss = loss_fn(y_batch, yhat)\n",
    "    # gradient descend\n",
    "    loss.backward()    \n",
    "    optimizer.step()\n",
    "    optimizer.zero_grad()\n",
    "    return loss.item()"
   ]
  },
  {
   "cell_type": "code",
   "execution_count": 9,
   "metadata": {},
   "outputs": [
    {
     "name": "stdout",
     "output_type": "stream",
     "text": [
      "[ epoch ] 0\n",
      "[ training ] training loss = 0.7768695324659347\n",
      "[ eval ] validation loss = 0.6578642725944519\n",
      "[ epoch ] 1\n",
      "[ training ] training loss = 0.516503420472145\n",
      "[ eval ] validation loss = 0.5015614926815033\n",
      "[ epoch ] 2\n",
      "[ training ] training loss = 0.39960501790046693\n",
      "[ eval ] validation loss = 0.3916688859462738\n",
      "[ epoch ] 3\n",
      "[ training ] training loss = 0.3113393634557724\n",
      "[ eval ] validation loss = 0.3069518506526947\n",
      "[ epoch ] 4\n",
      "[ training ] training loss = 0.24310510903596877\n",
      "[ eval ] validation loss = 0.2412244752049446\n",
      "[ epoch ] 5\n",
      "[ training ] training loss = 0.19028008580207825\n",
      "[ eval ] validation loss = 0.19019397348165512\n",
      "[ epoch ] 6\n",
      "[ training ] training loss = 0.14938178956508635\n",
      "[ eval ] validation loss = 0.15055935084819794\n",
      "[ epoch ] 7\n",
      "[ training ] training loss = 0.1177183173596859\n",
      "[ eval ] validation loss = 0.11976370215415955\n",
      "[ epoch ] 8\n",
      "[ training ] training loss = 0.09320541806519031\n",
      "[ eval ] validation loss = 0.09582535177469254\n",
      "[ epoch ] 9\n",
      "[ training ] training loss = 0.07422907873988152\n",
      "[ eval ] validation loss = 0.07720822468400002\n",
      "[ epoch ] 10\n",
      "[ training ] training loss = 0.05953959077596664\n",
      "[ eval ] validation loss = 0.06272141821682453\n",
      "[ epoch ] 11\n",
      "[ training ] training loss = 0.0481691412627697\n",
      "[ eval ] validation loss = 0.05144146457314491\n",
      "[ epoch ] 12\n",
      "[ training ] training loss = 0.03936840370297432\n",
      "[ eval ] validation loss = 0.042652424424886703\n",
      "[ epoch ] 13\n",
      "[ training ] training loss = 0.03255717558786273\n",
      "[ eval ] validation loss = 0.03579879458993673\n",
      "[ epoch ] 14\n",
      "[ training ] training loss = 0.027286117617040872\n",
      "[ eval ] validation loss = 0.03044958785176277\n",
      "[ epoch ] 15\n",
      "[ training ] training loss = 0.023207361157983542\n",
      "[ eval ] validation loss = 0.026270546950399876\n",
      "[ epoch ] 16\n",
      "[ training ] training loss = 0.020051562646403908\n",
      "[ eval ] validation loss = 0.023001961410045624\n",
      "[ epoch ] 17\n",
      "[ training ] training loss = 0.01761016617529094\n",
      "[ eval ] validation loss = 0.020442355424165726\n",
      "[ epoch ] 18\n",
      "[ training ] training loss = 0.015721716824918984\n",
      "[ eval ] validation loss = 0.018435267731547356\n",
      "[ epoch ] 19\n",
      "[ training ] training loss = 0.01426122486591339\n",
      "[ eval ] validation loss = 0.016858994029462337\n",
      "[ epoch ] 20\n",
      "[ training ] training loss = 0.013131922390311957\n",
      "[ eval ] validation loss = 0.015618993900716305\n",
      "[ epoch ] 21\n",
      "[ training ] training loss = 0.012258888268843294\n",
      "[ eval ] validation loss = 0.014641734771430492\n",
      "[ epoch ] 22\n",
      "[ training ] training loss = 0.011584130069240927\n",
      "[ eval ] validation loss = 0.013869983609765768\n",
      "[ epoch ] 23\n",
      "[ training ] training loss = 0.011062754737213253\n",
      "[ eval ] validation loss = 0.013259157072752714\n",
      "[ epoch ] 24\n",
      "[ training ] training loss = 0.010660032089799643\n",
      "[ eval ] validation loss = 0.012774525675922632\n",
      "[ epoch ] 25\n",
      "[ training ] training loss = 0.010349054215475917\n",
      "[ eval ] validation loss = 0.012389061972498894\n",
      "[ epoch ] 26\n",
      "[ training ] training loss = 0.0101090420037508\n",
      "[ eval ] validation loss = 0.0120815709233284\n",
      "[ epoch ] 27\n",
      "[ training ] training loss = 0.009923872374929487\n",
      "[ eval ] validation loss = 0.011835573706775904\n",
      "[ epoch ] 28\n",
      "[ training ] training loss = 0.009781097015365958\n",
      "[ eval ] validation loss = 0.01163811469450593\n",
      "[ epoch ] 29\n",
      "[ training ] training loss = 0.009671076945960522\n",
      "[ eval ] validation loss = 0.011479097418487072\n",
      "[ epoch ] 30\n",
      "[ training ] training loss = 0.009586350293830037\n",
      "[ eval ] validation loss = 0.011350564658641815\n",
      "[ epoch ] 31\n",
      "[ training ] training loss = 0.009521163604222237\n",
      "[ eval ] validation loss = 0.011246317531913519\n",
      "[ epoch ] 32\n",
      "[ training ] training loss = 0.009471054608002304\n",
      "[ eval ] validation loss = 0.011161389760673046\n",
      "[ epoch ] 33\n",
      "[ training ] training loss = 0.009432577062398195\n",
      "[ eval ] validation loss = 0.011091978289186954\n",
      "[ epoch ] 34\n",
      "[ training ] training loss = 0.009403065405786037\n",
      "[ eval ] validation loss = 0.011035000439733267\n",
      "[ epoch ] 35\n",
      "[ training ] training loss = 0.009380466723814606\n",
      "[ eval ] validation loss = 0.010988038964569569\n",
      "[ epoch ] 36\n",
      "[ training ] training loss = 0.009363194461911917\n",
      "[ eval ] validation loss = 0.010949170682579279\n",
      "[ epoch ] 37\n",
      "[ training ] training loss = 0.009350013127550483\n",
      "[ eval ] validation loss = 0.010916868690401316\n",
      "[ epoch ] 38\n",
      "[ training ] training loss = 0.009339972911402584\n",
      "[ eval ] validation loss = 0.010889939032495022\n",
      "[ epoch ] 39\n",
      "[ training ] training loss = 0.00933235459960997\n",
      "[ eval ] validation loss = 0.010867367032915354\n",
      "[ epoch ] 40\n",
      "[ training ] training loss = 0.009326588036492467\n",
      "[ eval ] validation loss = 0.010848387144505978\n",
      "[ epoch ] 41\n",
      "[ training ] training loss = 0.009322242252528668\n",
      "[ eval ] validation loss = 0.010832378640770912\n",
      "[ epoch ] 42\n",
      "[ training ] training loss = 0.009318979922682047\n",
      "[ eval ] validation loss = 0.010818823706358671\n",
      "[ epoch ] 43\n",
      "[ training ] training loss = 0.00931654181331396\n",
      "[ eval ] validation loss = 0.010807302314788103\n",
      "[ epoch ] 44\n",
      "[ training ] training loss = 0.009314736351370811\n",
      "[ eval ] validation loss = 0.010797476395964622\n",
      "[ epoch ] 45\n",
      "[ training ] training loss = 0.009313407307490706\n",
      "[ eval ] validation loss = 0.010789090767502785\n",
      "[ epoch ] 46\n",
      "[ training ] training loss = 0.009312444226816296\n",
      "[ eval ] validation loss = 0.010781887453049421\n",
      "[ epoch ] 47\n",
      "[ training ] training loss = 0.009311751462519169\n",
      "[ eval ] validation loss = 0.01077570766210556\n",
      "[ epoch ] 48\n",
      "[ training ] training loss = 0.009311263589188457\n",
      "[ eval ] validation loss = 0.0107703753747046\n",
      "[ epoch ] 49\n",
      "[ training ] training loss = 0.00931092738173902\n",
      "[ eval ] validation loss = 0.010765782091766596\n",
      "OrderedDict([('linear.weight', tensor([[2.9857]])), ('linear.bias', tensor([-0.9892]))])\n"
     ]
    }
   ],
   "source": [
    "# train model\n",
    "losses = []\n",
    "val_losses = []\n",
    "for epoch in range(n_epochs):\n",
    "    print(\"[ epoch ]\", epoch)\n",
    "    tmp_losses = []\n",
    "    for idx, (x_batch, y_batch) in enumerate(train_loader, 1):\n",
    "        x_batch = x_batch.to(device)\n",
    "        y_batch = y_batch.to(device)\n",
    "        loss = train_one_batch(model, loss_fn, optimizer, x_batch, y_batch)\n",
    "        tmp_losses.append(loss)\n",
    "    print(\"[ training ] training loss = {}\".format(sum(tmp_losses)/idx))\n",
    "    losses.append(sum(tmp_losses)/idx)\n",
    "    # eval\n",
    "    with torch.no_grad():\n",
    "        # set eval mode\n",
    "        model.eval()\n",
    "        tmp_val_losses = []\n",
    "        for idx, (x_batch, y_batch) in enumerate(val_loader, 1):\n",
    "            x_batch = x_batch.to(device)\n",
    "            y_batch = y_batch.to(device)\n",
    "            yhat = model(x_batch)\n",
    "            tmp_val_losses.append(loss_fn(y_batch, yhat).item())\n",
    "        print(\"[ eval ] validation loss = {}\".format(sum(tmp_val_losses)/idx))\n",
    "        val_losses.append(sum(tmp_val_losses)/idx)\n",
    "        \n",
    "print(model.state_dict())"
   ]
  },
  {
   "cell_type": "code",
   "execution_count": 10,
   "metadata": {},
   "outputs": [
    {
     "data": {
      "image/png": "[encoded data removed]",
      "text/plain": [
       "<Figure size 432x288 with 1 Axes>"
      ]
     },
     "metadata": {},
     "output_type": "display_data"
    }
   ],
   "source": [
    "plt.scatter(range(n_epochs), losses, label='train_loss', color='b')\n",
    "plt.scatter(range(n_epochs), val_losses, label='val_loss', color='r')\n",
    "plt.legend()\n",
    "plt.title('Loss')\n",
    "plt.xlabel('epochs')\n",
    "plt.ylabel('mse')\n",
    "plt.tight_layout()"
   ]
  }
 ],
 "metadata": {
  "kernelspec": {
   "display_name": "Python 3.6.10 64-bit ('pytorch_p36': conda)",
   "language": "python",
   "name": "python361064bitpytorchp36conda143b13e29122453f97130b8bdfe91e87"
  },
  "language_info": {
   "codemirror_mode": {
    "name": "ipython",
    "version": 3
   },
   "file_extension": ".py",
   "mimetype": "text/x-python",
   "name": "python",
   "nbconvert_exporter": "python",
   "pygments_lexer": "ipython3",
   "version": "3.6.10"
  }
 },
 "nbformat": 4,
 "nbformat_minor": 2
}
