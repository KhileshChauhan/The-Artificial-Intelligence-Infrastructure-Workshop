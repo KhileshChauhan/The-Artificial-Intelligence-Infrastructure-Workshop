{
 "cells": [
  {
   "cell_type": "markdown",
   "metadata": {},
   "source": [
    "## In production environment: import, load, and execute the model"
   ]
  },
  {
   "cell_type": "code",
   "execution_count": 1,
   "metadata": {},
   "outputs": [
    {
     "name": "stdout",
     "output_type": "stream",
     "text": [
      "Requirement already satisfied: flask in /usr/local/anaconda3/lib/python3.7/site-packages (1.1.1)\n",
      "Requirement already satisfied: Jinja2>=2.10.1 in /usr/local/anaconda3/lib/python3.7/site-packages (from flask) (2.10.3)\n",
      "Requirement already satisfied: itsdangerous>=0.24 in /usr/local/anaconda3/lib/python3.7/site-packages (from flask) (1.1.0)\n",
      "Requirement already satisfied: Werkzeug>=0.15 in /usr/local/anaconda3/lib/python3.7/site-packages (from flask) (0.16.0)\n",
      "Requirement already satisfied: click>=5.1 in /usr/local/anaconda3/lib/python3.7/site-packages (from flask) (7.0)\n",
      "Requirement already satisfied: MarkupSafe>=0.23 in /usr/local/anaconda3/lib/python3.7/site-packages (from Jinja2>=2.10.1->flask) (1.1.1)\n"
     ]
    }
   ],
   "source": [
    "!pip install flask"
   ]
  },
  {
   "cell_type": "code",
   "execution_count": 2,
   "metadata": {},
   "outputs": [],
   "source": [
    "from flask import Flask, jsonify, request\n",
    "import pickle"
   ]
  },
  {
   "cell_type": "code",
   "execution_count": 3,
   "metadata": {},
   "outputs": [],
   "source": [
    "# load the model from pickle file\n",
    "file = open('model.pkl', 'rb')  # read bytes\n",
    "model = pickle.load(file)\n",
    "file.close()"
   ]
  },
  {
   "cell_type": "code",
   "execution_count": 4,
   "metadata": {},
   "outputs": [
    {
     "name": "stdout",
     "output_type": "stream",
     "text": [
      "[0]\n",
      "[1]\n"
     ]
    }
   ],
   "source": [
    "# get predictions from the model\n",
    "print(model.predict([[3,0,22.0,1,0,7.25]]))  # male\n",
    "print(model.predict([[3,1,22.0,1,0,7.25]]))  # female"
   ]
  },
  {
   "cell_type": "code",
   "execution_count": 5,
   "metadata": {},
   "outputs": [],
   "source": [
    "    # create an API with Flask\n",
    "    app = Flask('Titanic')\n",
    "\n",
    "    # call this: curl -X GET http://127.0.0.1:5000/foo\n",
    "    @app.route('/hi', methods=['GET'])\n",
    "    def bar():\n",
    "        result = 'hello!'\n",
    "        return result\n",
    "\n",
    "    # call this: curl -X POST -H \"Content-Type: application/json\" -d '{\"Pclass\": 3, \"Sex\": 0, \"Age\": 72, \"SibSb\": 2, \"Parch\": 0, \"Fare\": 8.35}' http://127.0.0.1:5000/survived\n",
    "    @app.route('/survived', methods=['POST'])\n",
    "    def survived():\n",
    "        payload = request.get_json()\n",
    "        person = [payload['Pclass'], payload['Sex'], payload['Age'], payload['SibSb'], payload['Parch'], payload['Fare']]\n",
    "        result = model.predict([person])\n",
    "        print(f'{person} -> {str(result)}')\n",
    "        return f'I predict that person {person} has {\"_not_ \" if result == [0] else \"\"}survived the Titanic\\n'\n"
   ]
  },
  {
   "cell_type": "code",
   "execution_count": 6,
   "metadata": {
    "scrolled": false
   },
   "outputs": [
    {
     "name": "stdout",
     "output_type": "stream",
     "text": [
      " * Serving Flask app \"Titanic\" (lazy loading)\n",
      " * Environment: production\n",
      "   WARNING: This is a development server. Do not use it in a production deployment.\n",
      "   Use a production WSGI server instead.\n",
      " * Debug mode: off\n"
     ]
    },
    {
     "name": "stderr",
     "output_type": "stream",
     "text": [
      " * Running on http://127.0.0.1:5000/ (Press CTRL+C to quit)\n"
     ]
    }
   ],
   "source": [
    "app.run()"
   ]
  },
  {
   "cell_type": "code",
   "execution_count": null,
   "metadata": {},
   "outputs": [],
   "source": []
  }
 ],
 "metadata": {
  "kernelspec": {
   "display_name": "Python 3",
   "language": "python",
   "name": "python3"
  },
  "language_info": {
   "codemirror_mode": {
    "name": "ipython",
    "version": 3
   },
   "file_extension": ".py",
   "mimetype": "text/x-python",
   "name": "python",
   "nbconvert_exporter": "python",
   "pygments_lexer": "ipython3",
   "version": "3.7.4"
  }
 },
 "nbformat": 4,
 "nbformat_minor": 4
}
