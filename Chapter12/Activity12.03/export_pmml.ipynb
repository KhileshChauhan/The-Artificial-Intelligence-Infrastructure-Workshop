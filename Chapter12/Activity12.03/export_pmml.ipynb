{
 "cells": [
  {
   "cell_type": "code",
   "execution_count": 1,
   "metadata": {},
   "outputs": [],
   "source": [
    "# copy the trained model for predicting the passenger class of a person\n",
    "!cp ../Activity12.01/model.pkl ."
   ]
  },
  {
   "cell_type": "code",
   "execution_count": 2,
   "metadata": {},
   "outputs": [
    {
     "name": "stdout",
     "output_type": "stream",
     "text": [
      "Requirement already satisfied: sklearn2pmml in /usr/local/anaconda3/lib/python3.7/site-packages (0.55.4)\n",
      "Requirement already satisfied: joblib>=0.13.0 in /usr/local/anaconda3/lib/python3.7/site-packages (from sklearn2pmml) (0.13.2)\n",
      "Requirement already satisfied: scikit-learn>=0.18.0 in /usr/local/anaconda3/lib/python3.7/site-packages (from sklearn2pmml) (0.21.3)\n",
      "Requirement already satisfied: sklearn-pandas>=0.0.10 in /usr/local/anaconda3/lib/python3.7/site-packages (from sklearn2pmml) (1.8.0)\n",
      "Requirement already satisfied: numpy>=1.11.0 in /usr/local/anaconda3/lib/python3.7/site-packages (from scikit-learn>=0.18.0->sklearn2pmml) (1.17.2)\n",
      "Requirement already satisfied: scipy>=0.17.0 in /usr/local/anaconda3/lib/python3.7/site-packages (from scikit-learn>=0.18.0->sklearn2pmml) (1.3.1)\n",
      "Requirement already satisfied: pandas>=0.11.0 in /usr/local/anaconda3/lib/python3.7/site-packages (from sklearn-pandas>=0.0.10->sklearn2pmml) (0.25.1)\n",
      "Requirement already satisfied: python-dateutil>=2.6.1 in /usr/local/anaconda3/lib/python3.7/site-packages (from pandas>=0.11.0->sklearn-pandas>=0.0.10->sklearn2pmml) (2.8.0)\n",
      "Requirement already satisfied: pytz>=2017.2 in /usr/local/anaconda3/lib/python3.7/site-packages (from pandas>=0.11.0->sklearn-pandas>=0.0.10->sklearn2pmml) (2019.3)\n",
      "Requirement already satisfied: six>=1.5 in /usr/local/anaconda3/lib/python3.7/site-packages (from python-dateutil>=2.6.1->pandas>=0.11.0->sklearn-pandas>=0.0.10->sklearn2pmml) (1.12.0)\n"
     ]
    }
   ],
   "source": [
    "!pip install sklearn2pmml"
   ]
  },
  {
   "cell_type": "code",
   "execution_count": 3,
   "metadata": {},
   "outputs": [],
   "source": [
    "from sklearn2pmml import sklearn2pmml, make_pmml_pipeline\n",
    "import pickle"
   ]
  },
  {
   "cell_type": "code",
   "execution_count": 4,
   "metadata": {},
   "outputs": [],
   "source": [
    "# load the model from pickle file\n",
    "file = open('model.pkl', 'rb')  # read bytes\n",
    "model = pickle.load(file)\n",
    "file.close()"
   ]
  },
  {
   "cell_type": "code",
   "execution_count": 5,
   "metadata": {},
   "outputs": [],
   "source": [
    "pmml_pipeline = make_pmml_pipeline(model)\n",
    "sklearn2pmml(pmml_pipeline, 'titanic_class.pmml')"
   ]
  },
  {
   "cell_type": "code",
   "execution_count": 6,
   "metadata": {
    "scrolled": true
   },
   "outputs": [
    {
     "name": "stdout",
     "output_type": "stream",
     "text": [
      "<?xml version=\"1.0\" encoding=\"UTF-8\" standalone=\"yes\"?>\r\n",
      "<PMML xmlns=\"http://www.dmg.org/PMML-4_3\" xmlns:data=\"http://jpmml.org/jpmml-model/InlineTable\" version=\"4.3\">\r\n",
      "\t<Header>\r\n",
      "\t\t<Application name=\"JPMML-SkLearn\" version=\"1.5.35\"/>\r\n",
      "\t\t<Timestamp>2020-04-16T07:23:52Z</Timestamp>\r\n",
      "\t</Header>\r\n",
      "\t<DataDictionary>\r\n",
      "\t\t<DataField name=\"y\" optype=\"categorical\" dataType=\"integer\">\r\n",
      "\t\t\t<Value value=\"1\"/>\r\n",
      "\t\t\t<Value value=\"2\"/>\r\n",
      "\t\t\t<Value value=\"3\"/>\r\n",
      "\t\t</DataField>\r\n",
      "\t\t<DataField name=\"x1\" optype=\"continuous\" dataType=\"double\"/>\r\n",
      "\t\t<DataField name=\"x2\" optype=\"continuous\" dataType=\"double\"/>\r\n",
      "\t\t<DataField name=\"x3\" optype=\"continuous\" dataType=\"double\"/>\r\n",
      "\t\t<DataField name=\"x4\" optype=\"continuous\" dataType=\"double\"/>\r\n",
      "\t\t<DataField name=\"x5\" optype=\"continuous\" dataType=\"double\"/>\r\n",
      "\t\t<DataField name=\"x6\" optype=\"continuous\" dataType=\"double\"/>\r\n",
      "\t</DataDictionary>\r\n",
      "\t<MiningModel functionName=\"classification\">\r\n",
      "\t\t<MiningSchema>\r\n",
      "\t\t\t<MiningField name=\"y\" usageType=\"target\"/>\r\n",
      "\t\t\t<MiningField name=\"x1\"/>\r\n",
      "\t\t\t<MiningField name=\"x2\"/>\r\n",
      "\t\t\t<MiningField name=\"x3\"/>\r\n",
      "\t\t\t<MiningField name=\"x4\"/>\r\n",
      "\t\t\t<MiningField name=\"x5\"/>\r\n",
      "\t\t\t<MiningField name=\"x6\"/>\r\n",
      "\t\t</MiningSchema>\r\n",
      "\t\t<Segmentation multipleModelMethod=\"modelChain\" x-missingPredictionTreatment=\"returnMissing\">\r\n",
      "\t\t\t<Segment id=\"1\">\r\n",
      "\t\t\t\t<True/>\r\n",
      "\t\t\t\t<RegressionModel functionName=\"regression\" normalizationMethod=\"logit\">\r\n",
      "\t\t\t\t\t<MiningSchema>\r\n",
      "\t\t\t\t\t\t<MiningField name=\"x1\"/>\r\n",
      "\t\t\t\t\t\t<MiningField name=\"x2\"/>\r\n",
      "\t\t\t\t\t\t<MiningField name=\"x3\"/>\r\n",
      "\t\t\t\t\t\t<MiningField name=\"x4\"/>\r\n",
      "\t\t\t\t\t\t<MiningField name=\"x5\"/>\r\n",
      "\t\t\t\t\t\t<MiningField name=\"x6\"/>\r\n",
      "\t\t\t\t\t</MiningSchema>\r\n",
      "\t\t\t\t\t<Output>\r\n",
      "\t\t\t\t\t\t<OutputField name=\"decisionFunction(1)\" optype=\"continuous\" dataType=\"double\" isFinalResult=\"false\"/>\r\n",
      "\t\t\t\t\t</Output>\r\n",
      "\t\t\t\t\t<RegressionTable intercept=\"-5.254940917936017\">\r\n",
      "\t\t\t\t\t\t<NumericPredictor name=\"x1\" coefficient=\"0.6950011836091101\"/>\r\n",
      "\t\t\t\t\t\t<NumericPredictor name=\"x2\" coefficient=\"-0.5356480276424558\"/>\r\n",
      "\t\t\t\t\t\t<NumericPredictor name=\"x3\" coefficient=\"0.04056146637542524\"/>\r\n",
      "\t\t\t\t\t\t<NumericPredictor name=\"x4\" coefficient=\"-1.9449014115361871\"/>\r\n",
      "\t\t\t\t\t\t<NumericPredictor name=\"x5\" coefficient=\"-1.0073435109522975\"/>\r\n",
      "\t\t\t\t\t\t<NumericPredictor name=\"x6\" coefficient=\"0.12462664161325207\"/>\r\n",
      "\t\t\t\t\t</RegressionTable>\r\n",
      "\t\t\t\t</RegressionModel>\r\n",
      "\t\t\t</Segment>\r\n",
      "\t\t\t<Segment id=\"2\">\r\n",
      "\t\t\t\t<True/>\r\n",
      "\t\t\t\t<RegressionModel functionName=\"regression\" normalizationMethod=\"logit\">\r\n",
      "\t\t\t\t\t<MiningSchema>\r\n",
      "\t\t\t\t\t\t<MiningField name=\"x1\"/>\r\n",
      "\t\t\t\t\t\t<MiningField name=\"x2\"/>\r\n",
      "\t\t\t\t\t\t<MiningField name=\"x3\"/>\r\n",
      "\t\t\t\t\t\t<MiningField name=\"x4\"/>\r\n",
      "\t\t\t\t\t\t<MiningField name=\"x5\"/>\r\n",
      "\t\t\t\t\t\t<MiningField name=\"x6\"/>\r\n",
      "\t\t\t\t\t</MiningSchema>\r\n",
      "\t\t\t\t\t<Output>\r\n",
      "\t\t\t\t\t\t<OutputField name=\"decisionFunction(2)\" optype=\"continuous\" dataType=\"double\" isFinalResult=\"false\"/>\r\n",
      "\t\t\t\t\t</Output>\r\n",
      "\t\t\t\t\t<RegressionTable intercept=\"-1.4603166468275994\">\r\n",
      "\t\t\t\t\t\t<NumericPredictor name=\"x1\" coefficient=\"0.6369941462300548\"/>\r\n",
      "\t\t\t\t\t\t<NumericPredictor name=\"x2\" coefficient=\"0.1735341255022498\"/>\r\n",
      "\t\t\t\t\t\t<NumericPredictor name=\"x3\" coefficient=\"0.007366910580729701\"/>\r\n",
      "\t\t\t\t\t\t<NumericPredictor name=\"x4\" coefficient=\"-0.05977086578917514\"/>\r\n",
      "\t\t\t\t\t\t<NumericPredictor name=\"x5\" coefficient=\"0.13428067390192056\"/>\r\n",
      "\t\t\t\t\t\t<NumericPredictor name=\"x6\" coefficient=\"-0.01729710464257998\"/>\r\n",
      "\t\t\t\t\t</RegressionTable>\r\n",
      "\t\t\t\t</RegressionModel>\r\n",
      "\t\t\t</Segment>\r\n",
      "\t\t\t<Segment id=\"3\">\r\n",
      "\t\t\t\t<True/>\r\n",
      "\t\t\t\t<RegressionModel functionName=\"regression\" normalizationMethod=\"logit\">\r\n",
      "\t\t\t\t\t<MiningSchema>\r\n",
      "\t\t\t\t\t\t<MiningField name=\"x1\"/>\r\n",
      "\t\t\t\t\t\t<MiningField name=\"x2\"/>\r\n",
      "\t\t\t\t\t\t<MiningField name=\"x3\"/>\r\n",
      "\t\t\t\t\t\t<MiningField name=\"x4\"/>\r\n",
      "\t\t\t\t\t\t<MiningField name=\"x5\"/>\r\n",
      "\t\t\t\t\t\t<MiningField name=\"x6\"/>\r\n",
      "\t\t\t\t\t</MiningSchema>\r\n",
      "\t\t\t\t\t<Output>\r\n",
      "\t\t\t\t\t\t<OutputField name=\"decisionFunction(3)\" optype=\"continuous\" dataType=\"double\" isFinalResult=\"false\"/>\r\n",
      "\t\t\t\t\t</Output>\r\n",
      "\t\t\t\t\t<RegressionTable intercept=\"3.4240085954439152\">\r\n",
      "\t\t\t\t\t\t<NumericPredictor name=\"x1\" coefficient=\"-0.8201494549586155\"/>\r\n",
      "\t\t\t\t\t\t<NumericPredictor name=\"x2\" coefficient=\"0.0050657334907495705\"/>\r\n",
      "\t\t\t\t\t\t<NumericPredictor name=\"x3\" coefficient=\"-0.025056243954594184\"/>\r\n",
      "\t\t\t\t\t\t<NumericPredictor name=\"x4\" coefficient=\"1.0720983541061535\"/>\r\n",
      "\t\t\t\t\t\t<NumericPredictor name=\"x5\" coefficient=\"0.6635985198485714\"/>\r\n",
      "\t\t\t\t\t\t<NumericPredictor name=\"x6\" coefficient=\"-0.15185060847731455\"/>\r\n",
      "\t\t\t\t\t</RegressionTable>\r\n",
      "\t\t\t\t</RegressionModel>\r\n",
      "\t\t\t</Segment>\r\n",
      "\t\t\t<Segment id=\"4\">\r\n",
      "\t\t\t\t<True/>\r\n",
      "\t\t\t\t<RegressionModel functionName=\"classification\" normalizationMethod=\"simplemax\">\r\n",
      "\t\t\t\t\t<MiningSchema>\r\n",
      "\t\t\t\t\t\t<MiningField name=\"y\" usageType=\"target\"/>\r\n",
      "\t\t\t\t\t\t<MiningField name=\"decisionFunction(1)\"/>\r\n",
      "\t\t\t\t\t\t<MiningField name=\"decisionFunction(2)\"/>\r\n",
      "\t\t\t\t\t\t<MiningField name=\"decisionFunction(3)\"/>\r\n",
      "\t\t\t\t\t</MiningSchema>\r\n",
      "\t\t\t\t\t<Output>\r\n",
      "\t\t\t\t\t\t<OutputField name=\"probability(1)\" optype=\"continuous\" dataType=\"double\" feature=\"probability\" value=\"1\"/>\r\n",
      "\t\t\t\t\t\t<OutputField name=\"probability(2)\" optype=\"continuous\" dataType=\"double\" feature=\"probability\" value=\"2\"/>\r\n",
      "\t\t\t\t\t\t<OutputField name=\"probability(3)\" optype=\"continuous\" dataType=\"double\" feature=\"probability\" value=\"3\"/>\r\n",
      "\t\t\t\t\t</Output>\r\n",
      "\t\t\t\t\t<RegressionTable intercept=\"0.0\" targetCategory=\"1\">\r\n",
      "\t\t\t\t\t\t<NumericPredictor name=\"decisionFunction(1)\" coefficient=\"1.0\"/>\r\n",
      "\t\t\t\t\t</RegressionTable>\r\n",
      "\t\t\t\t\t<RegressionTable intercept=\"0.0\" targetCategory=\"2\">\r\n",
      "\t\t\t\t\t\t<NumericPredictor name=\"decisionFunction(2)\" coefficient=\"1.0\"/>\r\n",
      "\t\t\t\t\t</RegressionTable>\r\n",
      "\t\t\t\t\t<RegressionTable intercept=\"0.0\" targetCategory=\"3\">\r\n",
      "\t\t\t\t\t\t<NumericPredictor name=\"decisionFunction(3)\" coefficient=\"1.0\"/>\r\n",
      "\t\t\t\t\t</RegressionTable>\r\n",
      "\t\t\t\t</RegressionModel>\r\n",
      "\t\t\t</Segment>\r\n",
      "\t\t</Segmentation>\r\n",
      "\t</MiningModel>\r\n",
      "</PMML>\r\n"
     ]
    }
   ],
   "source": [
    "!cat titanic_class.pmml"
   ]
  }
 ],
 "metadata": {
  "kernelspec": {
   "display_name": "Python 3",
   "language": "python",
   "name": "python3"
  },
  "language_info": {
   "codemirror_mode": {
    "name": "ipython",
    "version": 3
   },
   "file_extension": ".py",
   "mimetype": "text/x-python",
   "name": "python",
   "nbconvert_exporter": "python",
   "pygments_lexer": "ipython3",
   "version": "3.7.4"
  }
 },
 "nbformat": 4,
 "nbformat_minor": 4
}
