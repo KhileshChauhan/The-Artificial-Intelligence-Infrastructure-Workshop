{
 "cells": [
  {
   "cell_type": "code",
   "execution_count": 1,
   "metadata": {},
   "outputs": [],
   "source": [
    "# copy the trained model for predicting whether a person would have survived the Titanic disaster\n",
    "!cp ../Exercise12.01/model.pkl ."
   ]
  },
  {
   "cell_type": "code",
   "execution_count": 2,
   "metadata": {},
   "outputs": [
    {
     "name": "stdout",
     "output_type": "stream",
     "text": [
      "Collecting sklearn2pmml\n",
      "\u001b[?25l  Downloading https://files.pythonhosted.org/packages/29/13/921daa2a87e19dc7579865f0990984b66cd9ad521bb43218d165a3d885d8/sklearn2pmml-0.55.4.tar.gz (5.6MB)\n",
      "\u001b[K     |████████████████████████████████| 5.6MB 422kB/s eta 0:00:01\n",
      "\u001b[?25hRequirement already satisfied: joblib>=0.13.0 in /usr/local/anaconda3/lib/python3.7/site-packages (from sklearn2pmml) (0.13.2)\n",
      "Requirement already satisfied: scikit-learn>=0.18.0 in /usr/local/anaconda3/lib/python3.7/site-packages (from sklearn2pmml) (0.21.3)\n",
      "Collecting sklearn-pandas>=0.0.10 (from sklearn2pmml)\n",
      "  Downloading https://files.pythonhosted.org/packages/1f/48/4e1461d828baf41d609efaa720d20090ac6ec346b5daad3c88e243e2207e/sklearn_pandas-1.8.0-py2.py3-none-any.whl\n",
      "Requirement already satisfied: scipy>=0.17.0 in /usr/local/anaconda3/lib/python3.7/site-packages (from scikit-learn>=0.18.0->sklearn2pmml) (1.3.1)\n",
      "Requirement already satisfied: numpy>=1.11.0 in /usr/local/anaconda3/lib/python3.7/site-packages (from scikit-learn>=0.18.0->sklearn2pmml) (1.17.2)\n",
      "Requirement already satisfied: pandas>=0.11.0 in /usr/local/anaconda3/lib/python3.7/site-packages (from sklearn-pandas>=0.0.10->sklearn2pmml) (0.25.1)\n",
      "Requirement already satisfied: pytz>=2017.2 in /usr/local/anaconda3/lib/python3.7/site-packages (from pandas>=0.11.0->sklearn-pandas>=0.0.10->sklearn2pmml) (2019.3)\n",
      "Requirement already satisfied: python-dateutil>=2.6.1 in /usr/local/anaconda3/lib/python3.7/site-packages (from pandas>=0.11.0->sklearn-pandas>=0.0.10->sklearn2pmml) (2.8.0)\n",
      "Requirement already satisfied: six>=1.5 in /usr/local/anaconda3/lib/python3.7/site-packages (from python-dateutil>=2.6.1->pandas>=0.11.0->sklearn-pandas>=0.0.10->sklearn2pmml) (1.12.0)\n",
      "Building wheels for collected packages: sklearn2pmml\n",
      "  Building wheel for sklearn2pmml (setup.py) ... \u001b[?25ldone\n",
      "\u001b[?25h  Created wheel for sklearn2pmml: filename=sklearn2pmml-0.55.4-cp37-none-any.whl size=5639649 sha256=c23d4072bd29d0373a4aad2742d559f7d9eeb0e80ff369a9c8328b7c716a753b\n",
      "  Stored in directory: /Users/bas/Library/Caches/pip/wheels/09/59/21/0d21d626166a52114f645f7eb675b51d947a32811f6e5198bf\n",
      "Successfully built sklearn2pmml\n",
      "Installing collected packages: sklearn-pandas, sklearn2pmml\n",
      "Successfully installed sklearn-pandas-1.8.0 sklearn2pmml-0.55.4\n"
     ]
    }
   ],
   "source": [
    "!pip install sklearn2pmml"
   ]
  },
  {
   "cell_type": "code",
   "execution_count": 3,
   "metadata": {},
   "outputs": [],
   "source": [
    "from sklearn2pmml import sklearn2pmml, make_pmml_pipeline\n",
    "import pickle"
   ]
  },
  {
   "cell_type": "code",
   "execution_count": 4,
   "metadata": {},
   "outputs": [],
   "source": [
    "# load the model from pickle file\n",
    "file = open('model.pkl', 'rb')  # read bytes\n",
    "model = pickle.load(file)\n",
    "file.close()"
   ]
  },
  {
   "cell_type": "code",
   "execution_count": 5,
   "metadata": {},
   "outputs": [],
   "source": [
    "pmml_pipeline = make_pmml_pipeline(model)\n",
    "sklearn2pmml(pmml_pipeline, 'titanic.pmml')"
   ]
  },
  {
   "cell_type": "code",
   "execution_count": 6,
   "metadata": {},
   "outputs": [
    {
     "name": "stdout",
     "output_type": "stream",
     "text": [
      "<?xml version=\"1.0\" encoding=\"UTF-8\" standalone=\"yes\"?>\r\n",
      "<PMML xmlns=\"http://www.dmg.org/PMML-4_3\" xmlns:data=\"http://jpmml.org/jpmml-model/InlineTable\" version=\"4.3\">\r\n",
      "\t<Header>\r\n",
      "\t\t<Application name=\"JPMML-SkLearn\" version=\"1.5.35\"/>\r\n",
      "\t\t<Timestamp>2020-04-16T07:19:01Z</Timestamp>\r\n",
      "\t</Header>\r\n",
      "\t<DataDictionary>\r\n",
      "\t\t<DataField name=\"y\" optype=\"categorical\" dataType=\"integer\">\r\n",
      "\t\t\t<Value value=\"0\"/>\r\n",
      "\t\t\t<Value value=\"1\"/>\r\n",
      "\t\t</DataField>\r\n",
      "\t\t<DataField name=\"x1\" optype=\"continuous\" dataType=\"double\"/>\r\n",
      "\t\t<DataField name=\"x2\" optype=\"continuous\" dataType=\"double\"/>\r\n",
      "\t\t<DataField name=\"x3\" optype=\"continuous\" dataType=\"double\"/>\r\n",
      "\t\t<DataField name=\"x4\" optype=\"continuous\" dataType=\"double\"/>\r\n",
      "\t\t<DataField name=\"x5\" optype=\"continuous\" dataType=\"double\"/>\r\n",
      "\t\t<DataField name=\"x6\" optype=\"continuous\" dataType=\"double\"/>\r\n",
      "\t</DataDictionary>\r\n",
      "\t<RegressionModel functionName=\"classification\" normalizationMethod=\"logit\">\r\n",
      "\t\t<MiningSchema>\r\n",
      "\t\t\t<MiningField name=\"y\" usageType=\"target\"/>\r\n",
      "\t\t\t<MiningField name=\"x1\"/>\r\n",
      "\t\t\t<MiningField name=\"x2\"/>\r\n",
      "\t\t\t<MiningField name=\"x3\"/>\r\n",
      "\t\t\t<MiningField name=\"x4\"/>\r\n",
      "\t\t\t<MiningField name=\"x5\"/>\r\n",
      "\t\t\t<MiningField name=\"x6\"/>\r\n",
      "\t\t</MiningSchema>\r\n",
      "\t\t<Output>\r\n",
      "\t\t\t<OutputField name=\"probability(0)\" optype=\"continuous\" dataType=\"double\" feature=\"probability\" value=\"0\"/>\r\n",
      "\t\t\t<OutputField name=\"probability(1)\" optype=\"continuous\" dataType=\"double\" feature=\"probability\" value=\"1\"/>\r\n",
      "\t\t</Output>\r\n",
      "\t\t<RegressionTable intercept=\"1.7352745860996108\" targetCategory=\"1\">\r\n",
      "\t\t\t<NumericPredictor name=\"x1\" coefficient=\"-0.9542728806698173\"/>\r\n",
      "\t\t\t<NumericPredictor name=\"x2\" coefficient=\"2.6453670750923477\"/>\r\n",
      "\t\t\t<NumericPredictor name=\"x3\" coefficient=\"-0.03428781881627483\"/>\r\n",
      "\t\t\t<NumericPredictor name=\"x4\" coefficient=\"-0.3292077169124686\"/>\r\n",
      "\t\t\t<NumericPredictor name=\"x5\" coefficient=\"-0.10430754556461452\"/>\r\n",
      "\t\t\t<NumericPredictor name=\"x6\" coefficient=\"0.003925071564013619\"/>\r\n",
      "\t\t</RegressionTable>\r\n",
      "\t\t<RegressionTable intercept=\"0.0\" targetCategory=\"0\"/>\r\n",
      "\t</RegressionModel>\r\n",
      "</PMML>\r\n"
     ]
    }
   ],
   "source": [
    "!cat titanic.pmml"
   ]
  }
 ],
 "metadata": {
  "kernelspec": {
   "display_name": "Python 3",
   "language": "python",
   "name": "python3"
  },
  "language_info": {
   "codemirror_mode": {
    "name": "ipython",
    "version": 3
   },
   "file_extension": ".py",
   "mimetype": "text/x-python",
   "name": "python",
   "nbconvert_exporter": "python",
   "pygments_lexer": "ipython3",
   "version": "3.7.4"
  }
 },
 "nbformat": 4,
 "nbformat_minor": 4
}
