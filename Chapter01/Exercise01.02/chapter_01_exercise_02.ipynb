{
 "cells": [
  {
   "cell_type": "markdown",
   "metadata": {},
   "source": [
    "1. import the pandas library and use it to read the dataset file into a dataframe, as shown in the following code."
   ]
  },
  {
   "cell_type": "code",
   "execution_count": 1,
   "metadata": {},
   "outputs": [
    {
     "data": {
      "text/html": [
       "<div>\n",
       "<style scoped>\n",
       "    .dataframe tbody tr th:only-of-type {\n",
       "        vertical-align: middle;\n",
       "    }\n",
       "\n",
       "    .dataframe tbody tr th {\n",
       "        vertical-align: top;\n",
       "    }\n",
       "\n",
       "    .dataframe thead th {\n",
       "        text-align: right;\n",
       "    }\n",
       "</style>\n",
       "<table border=\"1\" class=\"dataframe\">\n",
       "  <thead>\n",
       "    <tr style=\"text-align: right;\">\n",
       "      <th></th>\n",
       "      <th>Headline</th>\n",
       "      <th>Label</th>\n",
       "    </tr>\n",
       "  </thead>\n",
       "  <tbody>\n",
       "    <tr>\n",
       "      <td>0</td>\n",
       "      <td>Egypt's top envoy in Iraq confirmed killed</td>\n",
       "      <td>0</td>\n",
       "    </tr>\n",
       "    <tr>\n",
       "      <td>1</td>\n",
       "      <td>Carter: Race relations in Palestine are worse ...</td>\n",
       "      <td>0</td>\n",
       "    </tr>\n",
       "    <tr>\n",
       "      <td>2</td>\n",
       "      <td>After Years Of Dutiful Service, The Shiba Who ...</td>\n",
       "      <td>1</td>\n",
       "    </tr>\n",
       "    <tr>\n",
       "      <td>3</td>\n",
       "      <td>In Books on Two Powerbrokers, Hints of the Future</td>\n",
       "      <td>0</td>\n",
       "    </tr>\n",
       "    <tr>\n",
       "      <td>4</td>\n",
       "      <td>These Horrifyingly Satisfying Photos Of \"Baby ...</td>\n",
       "      <td>1</td>\n",
       "    </tr>\n",
       "    <tr>\n",
       "      <td>...</td>\n",
       "      <td>...</td>\n",
       "      <td>...</td>\n",
       "    </tr>\n",
       "    <tr>\n",
       "      <td>9995</td>\n",
       "      <td>What Is Your Weirdest Fear</td>\n",
       "      <td>1</td>\n",
       "    </tr>\n",
       "    <tr>\n",
       "      <td>9996</td>\n",
       "      <td>Felipe Massa wins 2008 French Grand Prix</td>\n",
       "      <td>0</td>\n",
       "    </tr>\n",
       "    <tr>\n",
       "      <td>9997</td>\n",
       "      <td>Bottled water concerns health experts</td>\n",
       "      <td>0</td>\n",
       "    </tr>\n",
       "    <tr>\n",
       "      <td>9998</td>\n",
       "      <td>Death of Nancy Benoit rumour posted on Wikiped...</td>\n",
       "      <td>0</td>\n",
       "    </tr>\n",
       "    <tr>\n",
       "      <td>9999</td>\n",
       "      <td>US Dept. of Justice IP address blocked after '...</td>\n",
       "      <td>0</td>\n",
       "    </tr>\n",
       "  </tbody>\n",
       "</table>\n",
       "<p>10000 rows × 2 columns</p>\n",
       "</div>"
      ],
      "text/plain": [
       "                                               Headline  Label\n",
       "0            Egypt's top envoy in Iraq confirmed killed      0\n",
       "1     Carter: Race relations in Palestine are worse ...      0\n",
       "2     After Years Of Dutiful Service, The Shiba Who ...      1\n",
       "3     In Books on Two Powerbrokers, Hints of the Future      0\n",
       "4     These Horrifyingly Satisfying Photos Of \"Baby ...      1\n",
       "...                                                 ...    ...\n",
       "9995                         What Is Your Weirdest Fear      1\n",
       "9996           Felipe Massa wins 2008 French Grand Prix      0\n",
       "9997              Bottled water concerns health experts      0\n",
       "9998  Death of Nancy Benoit rumour posted on Wikiped...      0\n",
       "9999  US Dept. of Justice IP address blocked after '...      0\n",
       "\n",
       "[10000 rows x 2 columns]"
      ]
     },
     "execution_count": 1,
     "metadata": {},
     "output_type": "execute_result"
    }
   ],
   "source": [
    "import pandas as pd\n",
    "\n",
    "df = pd.read_csv(\"../../Datasets/clickbait-headlines.tsv\", sep=\"\\t\", names=[\"Headline\", \"Label\"])\n",
    "df"
   ]
  },
  {
   "cell_type": "markdown",
   "metadata": {},
   "source": [
    "We import the pandas library, and then use the `read_csv()`() function to read the file into a dataframe called `df`. We pass the arguments `sep` to indicate that the file uses tab characters as separators and we pass in the column names as the `names` argument. The output is summarised to show only the first few entries and the last few, followed by a description of how many rows and columns there are in the entire dataframe.\n",
    "\n",
    "2. Calculate the length of each headline and print out the first ten lengths using a for loop, timing how long it takes, as shown in the code below.\n"
   ]
  },
  {
   "cell_type": "code",
   "execution_count": 2,
   "metadata": {},
   "outputs": [
    {
     "name": "stdout",
     "output_type": "stream",
     "text": [
      "[42, 60, 72, 49, 66, 51, 51, 58, 57, 76]\n",
      "CPU times: user 1.48 s, sys: 18 ms, total: 1.5 s\n",
      "Wall time: 1.65 s\n"
     ]
    }
   ],
   "source": [
    "%%time\n",
    "\n",
    "lengths = []\n",
    "\n",
    "for i, row in df.iterrows():\n",
    "    lengths.append(len(row[0]))\n",
    "print(lengths[:10])"
   ]
  },
  {
   "cell_type": "markdown",
   "metadata": {},
   "source": [
    "We declare an empty array to store the lengths, then loop through each row in our dataframe using the `iterrows()` method. We append the length of the first item of each row (the headline) to our array, and finally print out the first 10 results.\n",
    "\n",
    "3. Now re-calculate the length of each row, but this time using vectorized operations as shown in the code below."
   ]
  },
  {
   "cell_type": "code",
   "execution_count": 3,
   "metadata": {},
   "outputs": [
    {
     "name": "stdout",
     "output_type": "stream",
     "text": [
      "0    42\n",
      "1    60\n",
      "2    72\n",
      "3    49\n",
      "4    66\n",
      "5    51\n",
      "6    51\n",
      "7    58\n",
      "8    57\n",
      "9    76\n",
      "Name: Headline, dtype: int64\n",
      "CPU times: user 10.5 ms, sys: 4.88 ms, total: 15.3 ms\n",
      "Wall time: 16.3 ms\n"
     ]
    }
   ],
   "source": [
    "%%time\n",
    "lengths = df['Headline'].apply(len)\n",
    "print(lengths[:10])"
   ]
  },
  {
   "cell_type": "markdown",
   "metadata": {},
   "source": [
    "We use the `apply()` function to apply `len` to every row in our dataframe, without a for loop. Then we print the results to verify they are the same as when we used the for loop.  From the output, we can see the results are the same, but this time it took only 6.61 milliseconds instead of over one second to do carry out all of these calculations.\n",
    "\n",
    "4. Try a different calculation. This time find the average length of all clickbait headlines and compare this average to the length of normal headlines, as shown in the code below."
   ]
  },
  {
   "cell_type": "code",
   "execution_count": 4,
   "metadata": {},
   "outputs": [
    {
     "name": "stdout",
     "output_type": "stream",
     "text": [
      "Mean normal length is 52.0322\n",
      "Mean clickbait length is 55.6876\n",
      "CPU times: user 1.52 s, sys: 12.2 ms, total: 1.53 s\n",
      "Wall time: 1.6 s\n"
     ]
    }
   ],
   "source": [
    "%%time\n",
    "from statistics import mean\n",
    "\n",
    "normal_lengths = []\n",
    "clickbait_lengths = []\n",
    "\n",
    "for i, row in df.iterrows():\n",
    "    if row[1] == 1:  # clickbait\n",
    "        clickbait_lengths.append(len(row[0]))\n",
    "    else:\n",
    "        normal_lengths.append(len(row[0]))\n",
    "\n",
    "print(\"Mean normal length is {}\".format(mean(normal_lengths)))\n",
    "print(\"Mean clickbait length is {}\".format(mean(clickbait_lengths)))"
   ]
  },
  {
   "cell_type": "markdown",
   "metadata": {},
   "source": [
    "We import the `mean` function from the `statistics` library. This time we set up two empty arrays, one for the lengths of normal headlines and one for clickbat. We use `iterrows()` function again to check every row and again calculate the length, but this time store the result in one of our two arrays, based on whether the headline is clickbait or not. We then take the average of each array and print it out.\n",
    "\n",
    "5. Now re-calculate this output using vectorized operations as shown in the code below."
   ]
  },
  {
   "cell_type": "code",
   "execution_count": 5,
   "metadata": {},
   "outputs": [
    {
     "name": "stdout",
     "output_type": "stream",
     "text": [
      "52.0322\n",
      "55.6876\n",
      "CPU times: user 13 ms, sys: 3.35 ms, total: 16.4 ms\n",
      "Wall time: 25.5 ms\n"
     ]
    }
   ],
   "source": [
    "%%time\n",
    "\n",
    "print(df[df[\"Label\"] == 0]['Headline'].apply(len).mean())\n",
    "print(df[df[\"Label\"] == 1]['Headline'].apply(len).mean())"
   ]
  },
  {
   "cell_type": "markdown",
   "metadata": {},
   "source": [
    "In each line, we look at only a subset of the dataframe: first where the label is '0', and second when it is '1'. We again apply the `len` function to each row that matches the condition and then take the average of the entire result. We confirm that the output is the same as before.\n",
    "\n",
    "6. As a final test, calculate how often the word 'you' appears in each kind of headline, as shown in the following code."
   ]
  },
  {
   "cell_type": "code",
   "execution_count": 6,
   "metadata": {},
   "outputs": [
    {
     "name": "stdout",
     "output_type": "stream",
     "text": [
      "Total 'you's in normal headlines 43\n",
      "Total 'you's in clickbait headlines 2527\n",
      "CPU times: user 1.62 s, sys: 16.9 ms, total: 1.64 s\n",
      "Wall time: 1.72 s\n"
     ]
    }
   ],
   "source": [
    "%%time\n",
    "from statistics import mean\n",
    "\n",
    "normal_yous = 0\n",
    "clickbait_yous = 0\n",
    "\n",
    "for i, row in df.iterrows():\n",
    "    num_yous = row[0].lower().count(\"you\")\n",
    "    if row[1] == 1:  # clickbait\n",
    "        clickbait_yous += num_yous\n",
    "    else:\n",
    "        normal_yous += num_yous\n",
    "\n",
    "print(\"Total 'you's in normal headlines {}\".format(normal_yous))\n",
    "print(\"Total 'you's in clickbait headlines {}\".format(clickbait_yous))\n"
   ]
  },
  {
   "cell_type": "markdown",
   "metadata": {},
   "source": [
    "We define two variables `normal_yous` and `clickbait_yous` to count the total occurences of the word you in each class of headline. We loop through the entire dataset again using a for loop and the `iterrows()` funciton. For each row, we use `count()` to count how often the word you appears, and then add this total to the relevant total. Finally we print out both results, seeing that \"you\" appears very often in clickbait headlines, but hardly ever in non-clickbait headlines.\n",
    "\n",
    "7. Re-run the same analysis without using a for loop and compare times, as shown in the code below."
   ]
  },
  {
   "cell_type": "code",
   "execution_count": 7,
   "metadata": {},
   "outputs": [
    {
     "name": "stdout",
     "output_type": "stream",
     "text": [
      "43\n",
      "2527\n",
      "CPU times: user 25.7 ms, sys: 3.89 ms, total: 29.6 ms\n",
      "Wall time: 48.1 ms\n"
     ]
    }
   ],
   "source": [
    "%%time\n",
    "print(df[df[\"Label\"] == 0]['Headline'].apply(lambda x: x.lower().count(\"you\")).sum())\n",
    "print(df[df[\"Label\"] == 1]['Headline'].apply(lambda x: x.lower().count(\"you\")).sum())"
   ]
  },
  {
   "cell_type": "markdown",
   "metadata": {},
   "source": [
    "Similarly to before, we break the dataset into two subsets and apply the same operation to each. This time our function is a bit more complicated than the `len` function we used before, so we define an anonymous function inline using `lambda`. We lowercase each headline and count how often \"you\" appears and then sum the results.\n"
   ]
  },
  {
   "cell_type": "markdown",
   "metadata": {},
   "source": [
    "From the above the main takeaway we can see is that vectorized operations can be many times faster than using for loops. We also learned some interesting things about clickbait characteristics though. For example, the word 'you' appears very often in clickbait headlines (2527 times), but hardly ever in normal headlines (43 times). Clickbait headlines are also on average slightly longer than non-clickbait headlines."
   ]
  },
  {
   "cell_type": "code",
   "execution_count": null,
   "metadata": {},
   "outputs": [],
   "source": []
  }
 ],
 "metadata": {
  "kernelspec": {
   "display_name": "Python 3",
   "language": "python",
   "name": "python3"
  },
  "language_info": {
   "codemirror_mode": {
    "name": "ipython",
    "version": 3
   },
   "file_extension": ".py",
   "mimetype": "text/x-python",
   "name": "python",
   "nbconvert_exporter": "python",
   "pygments_lexer": "ipython3",
   "version": "3.7.6"
  }
 },
 "nbformat": 4,
 "nbformat_minor": 2
}
