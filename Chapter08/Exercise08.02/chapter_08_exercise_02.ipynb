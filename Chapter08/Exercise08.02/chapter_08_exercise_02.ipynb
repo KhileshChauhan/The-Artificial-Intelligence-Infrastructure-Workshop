{
 "cells": [
  {
   "cell_type": "markdown",
   "metadata": {},
   "source": [
    "1. Import the standard libraries `random` and `time` as well as the Queue and Thread classes from their respective modules, as shown in the code below."
   ]
  },
  {
   "cell_type": "code",
   "execution_count": 1,
   "metadata": {},
   "outputs": [],
   "source": [
    "from queue import Queue\n",
    "from threading import Thread\n",
    "import random\n",
    "import time"
   ]
  },
  {
   "cell_type": "markdown",
   "metadata": {},
   "source": [
    "We imported the modules that we will use to design our next mock system."
   ]
  },
  {
   "cell_type": "markdown",
   "metadata": {},
   "source": [
    "2. Initialise the mock dataset and put it into a queue, as shown below."
   ]
  },
  {
   "cell_type": "code",
   "execution_count": 2,
   "metadata": {},
   "outputs": [],
   "source": [
    "urls = ['url1-', 'url1-', 'url2-', 'url3-', 'url4-', 'url5-', 'url6-', 'url7-', 'url8-', 'url9-', 'url10-']\n",
    "seen = set()\n",
    "\n",
    "url_queue = Queue()\n",
    "for url in urls:\n",
    "    url_queue.put(url)\n",
    "\n"
   ]
  },
  {
   "cell_type": "markdown",
   "metadata": {},
   "source": [
    "We created 11 mock URLs and a `seen` set to find duplicates. We then created a queue for our URLs and added each URL to the queue."
   ]
  },
  {
   "cell_type": "markdown",
   "metadata": {},
   "source": [
    "3. Set up queues for each of the other components, up to and including the deduplicator, as shown in the code below."
   ]
  },
  {
   "cell_type": "code",
   "execution_count": 3,
   "metadata": {},
   "outputs": [],
   "source": [
    "scraped_queue = Queue()\n",
    "cleaned_queue = Queue()\n",
    "deduplicated_queue = Queue()"
   ]
  },
  {
   "cell_type": "markdown",
   "metadata": {},
   "source": [
    "We initialized `Queue()` objects for each component to push to when done."
   ]
  },
  {
   "cell_type": "markdown",
   "metadata": {},
   "source": [
    "4. Define the scraper module as a function, as shown below."
   ]
  },
  {
   "cell_type": "code",
   "execution_count": 4,
   "metadata": {},
   "outputs": [],
   "source": [
    "def scraper():\n",
    "    while True:\n",
    "        time.sleep(random.randrange(0,2))\n",
    "        url = url_queue.get()\n",
    "        print(\"Scraping {}\".format(url))\n",
    "        scraped_queue.put(url[3:])"
   ]
  },
  {
   "cell_type": "markdown",
   "metadata": {},
   "source": [
    "Our scraper function is designed to be run in a thread, so we have a while true loop. We use `time.sleep()` to simulate work taking a variable amount of time. We get an available URL from the first queue for processing and remove the first three characters, leaving just the number and the trailing hypen."
   ]
  },
  {
   "cell_type": "markdown",
   "metadata": {},
   "source": [
    "5. define similar functions for the cleaner and deduplicator components, as shown below."
   ]
  },
  {
   "cell_type": "code",
   "execution_count": 5,
   "metadata": {},
   "outputs": [],
   "source": [
    "def cleaner():\n",
    "    while True:\n",
    "        time.sleep(random.randrange(2,4))\n",
    "        raw = scraped_queue.get()\n",
    "        print(\"Cleaning {}\".format(raw))\n",
    "        cleaned_queue.put(raw.replace(\"-\", \"\"))\n",
    "        \n",
    "def deduplicator():\n",
    "     while True:\n",
    "        time.sleep(random.randrange(4,6))\n",
    "        cleaned = cleaned_queue.get()\n",
    "        print(\"Deduplicating {}\".format(cleaned))\n",
    "        if cleaned not in seen:\n",
    "            deduplicated_queue.put(cleaned)\n",
    "            seen.add(cleaned)\n"
   ]
  },
  {
   "cell_type": "markdown",
   "metadata": {},
   "source": [
    "We defined functions for our cleaner and deduplicator. They both work very similarly to the `scraper()` function, but the cleaner removes the trailing hyphen and the deduplicator checks if the cleaned version (only the number) has ever been seen before."
   ]
  },
  {
   "cell_type": "markdown",
   "metadata": {},
   "source": [
    "6. Initialise threads for each component, as shown in the code below."
   ]
  },
  {
   "cell_type": "code",
   "execution_count": 6,
   "metadata": {},
   "outputs": [],
   "source": [
    "scraper_worker = Thread(target=scraper)\n",
    "cleaner_worker = Thread(target=cleaner)\n",
    "deduplicator_worker = Thread(target=deduplicator)"
   ]
  },
  {
   "cell_type": "markdown",
   "metadata": {},
   "source": [
    "We created three threads, one for each component using the `Thread` class and passing the respective functions in using the `target` parameter."
   ]
  },
  {
   "cell_type": "markdown",
   "metadata": {},
   "source": [
    "7. Add the threads to a list and start each of them, as shown below."
   ]
  },
  {
   "cell_type": "code",
   "execution_count": 7,
   "metadata": {},
   "outputs": [
    {
     "data": {
      "text/plain": [
       "[None, None, None]"
      ]
     },
     "execution_count": 7,
     "metadata": {},
     "output_type": "execute_result"
    },
    {
     "name": "stdout",
     "output_type": "stream",
     "text": [
      "Scraping url1-\n",
      "Scraping url1-\n",
      "Cleaning 1-\n",
      "Scraping url2-\n",
      "Scraping url3-\n",
      "Scraping url4-\n",
      "Scraping url5-\n",
      "Scraping url6-\n",
      "Scraping url7-\n",
      "Scraping url8-\n"
     ]
    }
   ],
   "source": [
    "threads = [\n",
    "    scraper_worker, cleaner_worker, deduplicator_worker\n",
    "]\n",
    "\n",
    "[t.start() for t in threads]"
   ]
  },
  {
   "cell_type": "markdown",
   "metadata": {},
   "source": [
    "We put our three worker threads in an array and called `start()` on each of them. Note that although the scraper works significantly faster than the other two components, the system remains available as the scraper puts all its outputs on a Queue, waiting to be picked up by the Cleaner. If the Cleaner were to break completely, the work would continue queuing up, waiting for it to become available again."
   ]
  },
  {
   "cell_type": "code",
   "execution_count": null,
   "metadata": {},
   "outputs": [],
   "source": []
  }
 ],
 "metadata": {
  "kernelspec": {
   "display_name": "Python 3",
   "language": "python",
   "name": "python3"
  },
  "language_info": {
   "codemirror_mode": {
    "name": "ipython",
    "version": 3
   },
   "file_extension": ".py",
   "mimetype": "text/x-python",
   "name": "python",
   "nbconvert_exporter": "python",
   "pygments_lexer": "ipython3",
   "version": "3.7.6"
  }
 },
 "nbformat": 4,
 "nbformat_minor": 2
}
