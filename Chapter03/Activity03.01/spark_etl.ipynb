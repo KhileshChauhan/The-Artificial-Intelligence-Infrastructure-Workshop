{
 "cells": [
  {
   "cell_type": "code",
   "execution_count": 1,
   "metadata": {},
   "outputs": [
    {
     "name": "stdout",
     "output_type": "stream",
     "text": [
      "Collecting package metadata (current_repodata.json): done\n",
      "Solving environment: \\ \n",
      "The environment is inconsistent, please check the package plan carefully\n",
      "The following packages are causing the inconsistency:\n",
      "\n",
      "  - defaults/linux-64::anaconda==2019.10=py37_0\n",
      "  - defaults/noarch::dask==2.5.2=py_0\n",
      "  - defaults/linux-64::statsmodels==0.10.1=py37hdd07704_0\n",
      "  - conda-forge/noarch::pyspark==2.4.5=py_0\n",
      "  - defaults/linux-64::bkcharts==0.2=py37_0\n",
      "  - defaults/linux-64::seaborn==0.9.0=py37_0\n",
      "done\n",
      "\n",
      "## Package Plan ##\n",
      "\n",
      "  environment location: /home/bas/anaconda3\n",
      "\n",
      "  added / updated specs:\n",
      "    - pyspark\n",
      "\n",
      "\n",
      "The following NEW packages will be INSTALLED:\n",
      "\n",
      "  _anaconda_depends  pkgs/main/linux-64::_anaconda_depends-2019.03-py37_0\n",
      "  pandas             conda-forge/linux-64::pandas-1.0.3-py37h0da4684_0\n",
      "  python_abi         conda-forge/linux-64::python_abi-3.7-1_cp37m\n",
      "\n",
      "The following packages will be UPDATED:\n",
      "\n",
      "  ca-certificates    pkgs/main::ca-certificates-2019.8.28-0 --> conda-forge::ca-certificates-2020.4.5.1-hecc5488_0\n",
      "  certifi               pkgs/main::certifi-2019.9.11-py37_0 --> conda-forge::certifi-2020.4.5.1-py37hc8dfbb8_0\n",
      "  conda                                        4.8.2-py37_0 --> 4.8.3-py37hc8dfbb8_1\n",
      "  openssl              pkgs/main::openssl-1.1.1d-h7b6447c_2 --> conda-forge::openssl-1.1.1f-h516909a_0\n",
      "\n",
      "The following packages will be DOWNGRADED:\n",
      "\n",
      "  anaconda                                   2019.10-py37_0 --> custom-py37_1\n",
      "\n",
      "\n",
      "Preparing transaction: done\n",
      "Verifying transaction: done\n",
      "Executing transaction: done\n"
     ]
    }
   ],
   "source": [
    "import sys\n",
    "!conda install --yes --prefix {sys.prefix} -c conda-forge pyspark"
   ]
  },
  {
   "cell_type": "code",
   "execution_count": 2,
   "metadata": {},
   "outputs": [],
   "source": [
    "from pyspark.sql import SparkSession\n",
    "from pyspark.sql.functions import col, split, size"
   ]
  },
  {
   "cell_type": "code",
   "execution_count": 3,
   "metadata": {},
   "outputs": [],
   "source": [
    "spark = SparkSession.builder.appName(\"Packt\").getOrCreate()"
   ]
  },
  {
   "cell_type": "code",
   "execution_count": 4,
   "metadata": {
    "scrolled": true
   },
   "outputs": [
    {
     "name": "stdout",
     "output_type": "stream",
     "text": [
      "+--------+--------------------+--------------------+--------------------+--------------------+-----------------+------------+------+---------+--------------------+--------------------+-------+\n",
      "| show_id|               title|            director|                cast|             country|       date_added|release_year|rating| duration|           listed_in|         description|   type|\n",
      "+--------+--------------------+--------------------+--------------------+--------------------+-----------------+------------+------+---------+--------------------+--------------------+-------+\n",
      "|81193313|           Chocolate|                null|Ha Ji-won, Yoon K...|         South Korea|November 30, 2019|        2019| TV-14| 1 Season|International TV ...|Brought together ...|TV Show|\n",
      "|81197050|Guatemala: Heart ...|Luis Ara, Ignacio...|   Christian Morales|                null|November 30, 2019|        2019|  TV-G|   67 min|Documentaries, In...|From Sierra de la...|  Movie|\n",
      "|81213894|     The Zoya Factor|     Abhishek Sharma|Sonam Kapoor, Dul...|               India|November 30, 2019|        2019| TV-14|  135 min|Comedies, Dramas,...|A goofy copywrite...|  Movie|\n",
      "|81082007|           Atlantics|           Mati Diop|Mama Sane, Amadou...|France, Senegal, ...|November 29, 2019|        2019| TV-14|  106 min|Dramas, Independe...|Arranged to marry...|  Movie|\n",
      "|80213643|     Chip and Potato|                null|Abigail Oliver, A...|Canada, United Ki...|             null|        2019|  TV-Y|2 Seasons|            Kids' TV|Lovable pug Chip ...|TV Show|\n",
      "|81172754|        Crazy people|        Moses Inwang|Ramsey Nouah, Chi...|             Nigeria|November 29, 2019|        2018| TV-14|  107 min|Comedies, Interna...|Nollywood star Ra...|  Movie|\n",
      "|81120982|      I Lost My Body|       Jérémy Clapin|Hakim Faris, Vict...|              France|November 29, 2019|        2019| TV-MA|   81 min|Dramas, Independe...|Romance, mystery ...|  Movie|\n",
      "|81227195|Kalushi: The Stor...|         Mandla Dube|Thabo Rametsi, Th...|        South Africa|November 29, 2019|        2016| TV-MA|  107 min|Dramas, Internati...|The life and time...|  Movie|\n",
      "|70205672|    La Reina del Sur|                null|Kate del Castillo...|United States, Sp...|             null|        2019| TV-14|2 Seasons|Crime TV Shows, I...|This compelling s...|TV Show|\n",
      "|81172841|Lagos Real Fake Life|      Mike Ezuruonye|Nonso Diobi, Mike...|                null|November 29, 2019|        2018| TV-14|  118 min|Comedies, Interna...|Two mooching frie...|  Movie|\n",
      "|81172899|              Payday|        Cheta Chukwu|Baaj Adebule, Ebi...|             Nigeria|November 29, 2019|        2018| TV-MA|  110 min|Comedies, Indepen...|After an expensiv...|  Movie|\n",
      "|81094391|Sugar Rush Christmas|                null|Hunter March, Can...|       United States|November 29, 2019|        2019| TV-PG| 1 Season|          Reality TV|\"It's everything ...|TV Show|\n",
      "|81172908|  The Accidental Spy|       Roger Russell|Ramsey Nouah, Chr...|             Nigeria|November 29, 2019|        2017| TV-14|  104 min|Action & Adventur...|Nursing a broken ...|  Movie|\n",
      "|81152641|The Charming Stepmom|                null|Shahkrit Yamnarm,...|                null|November 29, 2019|        2019| TV-14| 1 Season|International TV ...|A quirky fashion ...|TV Show|\n",
      "|81172901|          The Island|        Toka McBaror|Sambasa Nzeribe, ...|             Nigeria|November 29, 2019|        2018| TV-14|   93 min|Dramas, Internati...|When a colonel un...|  Movie|\n",
      "|80990849|The Movies That M...|                null|                null|       United States|November 29, 2019|        2019| TV-MA| 1 Season|          Docuseries|These blockbuster...|TV Show|\n",
      "|81033086|        Holiday Rush|        Leslie Small|Romany Malco, Son...|       United States|November 28, 2019|        2019| TV-PG|   94 min|Children & Family...|A widowed radio D...|  Movie|\n",
      "|80156799|              Levius|                null|Nobunaga Shimazak...|               Japan|November 28, 2019|        2019| TV-14| 1 Season|Anime Series, Int...|Young Levius rise...|TV Show|\n",
      "|81161538|     Lugar de Mulher|                null|                null|              Brazil|November 28, 2019|        2019| TV-MA| 1 Season|International TV ...|Four comedians fr...|TV Show|\n",
      "|80997965|Merry Happy Whatever|                null|Dennis Quaid, Bri...|       United States|November 28, 2019|        2019| TV-PG| 1 Season|         TV Comedies|A struggling LA m...|TV Show|\n",
      "+--------+--------------------+--------------------+--------------------+--------------------+-----------------+------------+------+---------+--------------------+--------------------+-------+\n",
      "only showing top 20 rows\n",
      "\n"
     ]
    }
   ],
   "source": [
    "data = spark.read.csv('../../Datasets/netflix_titles_nov_2019.csv', header='true')\n",
    "data.show()"
   ]
  },
  {
   "cell_type": "code",
   "execution_count": 5,
   "metadata": {
    "scrolled": true
   },
   "outputs": [
    {
     "name": "stdout",
     "output_type": "stream",
     "text": [
      "+--------+--------------------+--------+--------------------+--------------------+------------------+------------+------+---------+--------------------+--------------------+-------+\n",
      "| show_id|               title|director|                cast|             country|        date_added|release_year|rating| duration|           listed_in|         description|   type|\n",
      "+--------+--------------------+--------+--------------------+--------------------+------------------+------------+------+---------+--------------------+--------------------+-------+\n",
      "|80213643|     Chip and Potato|    null|Abigail Oliver, A...|Canada, United Ki...|              null|        2019|  TV-Y|2 Seasons|            Kids' TV|Lovable pug Chip ...|TV Show|\n",
      "|80117560|Trolls: The Beat ...|    null|Amanda Leighton, ...|       United States|              null|        2019|  TV-G|8 Seasons|Kids' TV, TV Come...|As Queen Poppy we...|TV Show|\n",
      "|80115338|         Llama Llama|    null|Jennifer Garner, ...|       United States|              null|        2019|  TV-Y|2 Seasons|            Kids' TV|Beloved children'...|TV Show|\n",
      "|80045925|Bella and the Bul...|    null|Brec Bassinger, C...|       United States|  November 2, 2019|        2015|  TV-G| 1 Season|Kids' TV, TV Come...|The life of cheer...|TV Show|\n",
      "|70172485|          Victorious|    null|Victoria Justice,...|       United States|              null|        2013|  TV-G|3 Seasons|Kids' TV, TV Come...|When aspiring sin...|TV Show|\n",
      "|81184735|Barbie Dreamhouse...|    null|America Young, Ki...|                null|  November 1, 2019|        2019|  TV-Y| 1 Season|            Kids' TV|As the Roberts fa...|TV Show|\n",
      "|80227818|         Hello Ninja|    null|Lukas Engel, Zoey...|                null|  November 1, 2019|        2019|  TV-Y| 1 Season|            Kids' TV|BFFs Wesley and G...|TV Show|\n",
      "|80991060|   Flavorful Origins|    null|           Yang Chen|               China|              null|        2019|  TV-G|2 Seasons|Docuseries, Inter...|Delve into the de...|TV Show|\n",
      "|81034099|           Jeopardy!|    null|         Alex Trebek|       United States|              null|        2019|  TV-G|5 Seasons|          Reality TV|Alex Trebek hosts...|TV Show|\n",
      "|81185502|A Little Thing Ca...|    null|Lai Kuan-lin, Zha...|               China|  October 26, 2019|        2019|  TV-G| 1 Season|International TV ...|A shy college stu...|TV Show|\n",
      "|81192130|ChuChu TV Kids So...|    null|                null|                null|              null|        2019|  TV-Y|2 Seasons|            Kids' TV|This educational ...|TV Show|\n",
      "|81011059|               Booba|    null|         Roman Karev|              Russia|              null|        2019|  TV-Y|3 Seasons|Kids' TV, TV Come...|The world is a my...|TV Show|\n",
      "|80176872|Little Baby Bum: ...|    null|Chloe Marsden, Aa...|                null|              null|        2019|  TV-Y|2 Seasons|British TV Shows,...|Twinkle, Mia, Jac...|TV Show|\n",
      "|81020066|Mighty Little Bhe...|    null|Samriddhi Shukla,...|               India|  October 18, 2019|        2019|  TV-Y| 1 Season|Kids' TV, TV Come...|From decorating h...|TV Show|\n",
      "|81094271|Spirit Riding Fre...|    null|Amber Frank, Bail...|       United States|              null|        2019|  TV-Y|2 Seasons|            Kids' TV|\"Find the fun and...|TV Show|\n",
      "|81154549|       Magical Andes|    null|                null|                null|  October 15, 2019|        2019|  TV-G| 1 Season|Docuseries, Inter...|From Argentina to...|TV Show|\n",
      "|80212481|YooHoo to the Rescue|    null|Kira Buckland, Ry...|         South Korea|              null|        2019|  TV-Y|2 Seasons|Kids' TV, Korean ...|In a series of ma...|TV Show|\n",
      "|80124711|      Super Monsters|    null|Elyse Maloway, Vi...|                null|              null|        2019|  TV-Y|3 Seasons|            Kids' TV|Preschool kids wh...|TV Show|\n",
      "|80218107|Dragons: Rescue R...|    null|Nicolas Cantu, Br...|                null|September 27, 2019|        2019|  TV-Y| 1 Season|Kids' TV, TV Come...|Twins Dak and Ley...|TV Show|\n",
      "|81073764|Loo Loo Kids: Joh...|    null|                null|                null| September 1, 2019|        2016|  TV-Y| 1 Season|            Kids' TV|Music-loving baby...|TV Show|\n",
      "+--------+--------------------+--------+--------------------+--------------------+------------------+------------+------+---------+--------------------+--------------------+-------+\n",
      "only showing top 20 rows\n",
      "\n"
     ]
    }
   ],
   "source": [
    "movies = data.filter((col('type') == 'TV Show') & ((col('rating') == 'TV-G') | (col('rating') == 'TV-Y')))\n",
    "movies.show()"
   ]
  },
  {
   "cell_type": "code",
   "execution_count": 6,
   "metadata": {},
   "outputs": [],
   "source": [
    "transformed = movies.withColumn('count_lists', size(split(movies['listed_in'], ',')))"
   ]
  },
  {
   "cell_type": "code",
   "execution_count": 7,
   "metadata": {},
   "outputs": [
    {
     "name": "stdout",
     "output_type": "stream",
     "text": [
      "+--------------------+--------------------+------+------------+---------+-----------+--------------------+--------------------+\n",
      "|               title|                cast|rating|release_year| duration|count_lists|           listed_in|         description|\n",
      "+--------------------+--------------------+------+------------+---------+-----------+--------------------+--------------------+\n",
      "|     Chip and Potato|Abigail Oliver, A...|  TV-Y|        2019|2 Seasons|          1|            Kids' TV|Lovable pug Chip ...|\n",
      "|Trolls: The Beat ...|Amanda Leighton, ...|  TV-G|        2019|8 Seasons|          2|Kids' TV, TV Come...|As Queen Poppy we...|\n",
      "|         Llama Llama|Jennifer Garner, ...|  TV-Y|        2019|2 Seasons|          1|            Kids' TV|Beloved children'...|\n",
      "|Bella and the Bul...|Brec Bassinger, C...|  TV-G|        2015| 1 Season|          2|Kids' TV, TV Come...|The life of cheer...|\n",
      "|          Victorious|Victoria Justice,...|  TV-G|        2013|3 Seasons|          2|Kids' TV, TV Come...|When aspiring sin...|\n",
      "|Barbie Dreamhouse...|America Young, Ki...|  TV-Y|        2019| 1 Season|          1|            Kids' TV|As the Roberts fa...|\n",
      "|         Hello Ninja|Lukas Engel, Zoey...|  TV-Y|        2019| 1 Season|          1|            Kids' TV|BFFs Wesley and G...|\n",
      "|   Flavorful Origins|           Yang Chen|  TV-G|        2019|2 Seasons|          2|Docuseries, Inter...|Delve into the de...|\n",
      "|           Jeopardy!|         Alex Trebek|  TV-G|        2019|5 Seasons|          1|          Reality TV|Alex Trebek hosts...|\n",
      "|A Little Thing Ca...|Lai Kuan-lin, Zha...|  TV-G|        2019| 1 Season|          3|International TV ...|A shy college stu...|\n",
      "|ChuChu TV Kids So...|                null|  TV-Y|        2019|2 Seasons|          1|            Kids' TV|This educational ...|\n",
      "|               Booba|         Roman Karev|  TV-Y|        2019|3 Seasons|          2|Kids' TV, TV Come...|The world is a my...|\n",
      "|Little Baby Bum: ...|Chloe Marsden, Aa...|  TV-Y|        2019|2 Seasons|          2|British TV Shows,...|Twinkle, Mia, Jac...|\n",
      "|Mighty Little Bhe...|Samriddhi Shukla,...|  TV-Y|        2019| 1 Season|          2|Kids' TV, TV Come...|From decorating h...|\n",
      "|Spirit Riding Fre...|Amber Frank, Bail...|  TV-Y|        2019|2 Seasons|          1|            Kids' TV|\"Find the fun and...|\n",
      "|       Magical Andes|                null|  TV-G|        2019| 1 Season|          3|Docuseries, Inter...|From Argentina to...|\n",
      "|YooHoo to the Rescue|Kira Buckland, Ry...|  TV-Y|        2019|2 Seasons|          2|Kids' TV, Korean ...|In a series of ma...|\n",
      "|      Super Monsters|Elyse Maloway, Vi...|  TV-Y|        2019|3 Seasons|          1|            Kids' TV|Preschool kids wh...|\n",
      "|Dragons: Rescue R...|Nicolas Cantu, Br...|  TV-Y|        2019| 1 Season|          2|Kids' TV, TV Come...|Twins Dak and Ley...|\n",
      "|Loo Loo Kids: Joh...|                null|  TV-Y|        2016| 1 Season|          1|            Kids' TV|Music-loving baby...|\n",
      "+--------------------+--------------------+------+------------+---------+-----------+--------------------+--------------------+\n",
      "only showing top 20 rows\n",
      "\n"
     ]
    }
   ],
   "source": [
    "selected = transformed.select('title', 'cast', 'rating', 'release_year', 'duration', 'count_lists', 'listed_in', 'description')\n",
    "selected.show()"
   ]
  },
  {
   "cell_type": "code",
   "execution_count": 9,
   "metadata": {},
   "outputs": [],
   "source": [
    "selected.write.csv('transformed2', header='true')"
   ]
  },
  {
   "cell_type": "code",
   "execution_count": 11,
   "metadata": {
    "scrolled": false
   },
   "outputs": [
    {
     "name": "stdout",
     "output_type": "stream",
     "text": [
      "title,cast,rating,release_year,duration,count_lists,listed_in,description\r\n",
      "Chip and Potato,\"Abigail Oliver, Andrea Libman, Briana Buckmaster, Brian Dobson, Chance Hurstfield, Dominic Good, Emma Jayne Maas, Evan Byarushengo, Scotia Anderson, Alessandro Juliani\",TV-Y,2019,2 Seasons,1,Kids' TV,\"Lovable pug Chip starts kindergarten, makes new friends and tries new things – with a little help from Potato, her secret mouse pal.\"\r\n",
      "Trolls: The Beat Goes On!,\"Amanda Leighton, Skylar Astin, Ron Funches, David Fynn, David Koechner, David Kaye, Sean T. Krishnan, Sam Lerner, Patrick Pinney, Kevin Michael Richardson, Kari Wahlgren, Fryda Wolff\",TV-G,2019,8 Seasons,2,\"Kids' TV, TV Comedies\",\"As Queen Poppy welcomes a new time of peace in Troll Village with parties, sports and holiday celebrations, Branch tries to be more fun-loving.\"\r\n",
      "Llama Llama,\"Jennifer Garner, Shayle Simons, Vania Gill, Islie Hirvonen, Brendon Sunderland, Austin Abell, Evans Johnson, Kathleen Barr, David Hoole\",TV-Y,2019,2 Seasons,1,Kids' TV,\"Beloved children's book character Llama Llama springs to life in this heartwarming series about family, friendship and learning new things.\"\r\n",
      "Bella and the Bulldogs,\"Brec Bassinger, Coy Stewart, Jackie Radinsky, Buddy Handleson, Lilimar, Haley Tju, Dorien Wilson, Rio Mangini, Annie Tedesco\",TV-G,2015,1 Season,2,\"Kids' TV, TV Comedies\",\"The life of cheerleader Bella Dawson turns upside down when, in a twist of fate, she becomes quarterback for her middle school's football team.\"\r\n",
      "Victorious,\"Victoria Justice, Leon Thomas III, Matt Bennett, Elizabeth Gillies, Ariana Grande, Avan Jogia, Daniella Monet, Michael Eric Reid, Jake Farrow, Eric Lange\",TV-G,2013,3 Seasons,2,\"Kids' TV, TV Comedies\",\"When aspiring singer Tori Vega joins the eccentric students at Hollywood Arts High, she struggles to fit in with the amazingly talented teens.\"\r\n",
      "Barbie Dreamhouse Adventures: Go Team Roberts,\"America Young, Kirsten Day, Cassandra Morris, Cassidy Naber, Emma Galvin, Stephanie Sheh, Desirae Whitfield, Cristina Milizia, Lisa Fuson, Greg Chun, Ritesh Rajan, Eamon Brennan\",TV-Y,2019,1 Season,1,Kids' TV,\"As the Roberts family heads to Costa Rica to investigate a mermaid legend, Barbie takes on a summer job at a water park run by a devious boss.\"\r\n",
      "Hello Ninja,\"Lukas Engel, Zoey Siewert, Sam Vincent, Mayumi Yoshida\",TV-Y,2019,1 Season,1,Kids' TV,\"BFFs Wesley and Georgie and their silly cat sidekick Pretzel transform into ninjas and enter a magic world, where they solve problems and save the day.\"\r\n",
      "Flavorful Origins,Yang Chen,TV-G,2019,2 Seasons,2,\"Docuseries, International TV Shows\",\"Delve into the delectable world of Chaoshan cuisine, explore its unique ingredients and hear the stories of the people behind its creation.\"\r\n",
      "Jeopardy!,Alex Trebek,TV-G,2019,5 Seasons,1,Reality TV,\"Alex Trebek hosts one of TV's longest-running game shows, where a trio of players buzz in with their knowledge of history, arts, pop culture and more.\"\r\n"
     ]
    }
   ],
   "source": [
    "# note: the filename ('part-....') will differ in your local machine\n",
    "!head transformed2/part-00000-c6aba32b-de71-431d-972c-ab14f124d5c2-c000.csv"
   ]
  }
 ],
 "metadata": {
  "kernelspec": {
   "display_name": "Python 3",
   "language": "python",
   "name": "python3"
  },
  "language_info": {
   "codemirror_mode": {
    "name": "ipython",
    "version": 3
   },
   "file_extension": ".py",
   "mimetype": "text/x-python",
   "name": "python",
   "nbconvert_exporter": "python",
   "pygments_lexer": "ipython3",
   "version": "3.7.4"
  }
 },
 "nbformat": 4,
 "nbformat_minor": 4
}
