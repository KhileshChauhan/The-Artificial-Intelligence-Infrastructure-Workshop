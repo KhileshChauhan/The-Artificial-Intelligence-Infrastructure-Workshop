{
 "cells": [
  {
   "cell_type": "markdown",
   "metadata": {},
   "source": [
    "# Exercise 3.1"
   ]
  },
  {
   "cell_type": "markdown",
   "metadata": {},
   "source": [
    "For this exercise we'll use the GNU gawk library. Install it using the following lines:"
   ]
  },
  {
   "cell_type": "code",
   "execution_count": 6,
   "metadata": {},
   "outputs": [
    {
     "name": "stdout",
     "output_type": "stream",
     "text": [
      "········\n"
     ]
    },
    {
     "data": {
      "text/plain": [
       "0"
      ]
     },
     "execution_count": 6,
     "metadata": {},
     "output_type": "execute_result"
    }
   ],
   "source": [
    "import getpass\n",
    "import os\n",
    "\n",
    "# get the password to use in the Jupyter notebook\n",
    "password = getpass.getpass()\n",
    "\n",
    "# install the gawk library\n",
    "command = \"sudo -S apt-get install gawk\"\n",
    "os.system('echo %s | %s' % (password, command))"
   ]
  },
  {
   "cell_type": "markdown",
   "metadata": {},
   "source": [
    "After creating the .awk file, it's possible to process the csv file. Let's start by checking the first 10 lines, aka the head of the file:"
   ]
  },
  {
   "cell_type": "code",
   "execution_count": 7,
   "metadata": {},
   "outputs": [
    {
     "name": "stdout",
     "output_type": "stream",
     "text": [
      "NF = 12\r\n",
      "#1 = show_id\r\n",
      "#2 = title\r\n",
      "#3 = director\r\n",
      "#4 = cast\r\n",
      "#5 = country\r\n",
      "#6 = date_added\r\n",
      "#7 = release_year\r\n",
      "#8 = rating\r\n",
      "#9 = duration\r\n",
      "#10 = listed_in\r\n",
      "#11 = description\r\n",
      "#12 = type\r",
      "\r\n",
      "NF = 12\r\n",
      "#1 = 81193313\r\n",
      "#2 = Chocolate\r\n",
      "#3 =  \r\n",
      "#4 = Ha Ji-won, Yoon Kye-sang, Jang Seung-jo, Kang Bu-ja, Lee Jae-ryong, Min Jin-woong, Kim Won-hae, Yoo Teo\r\n",
      "#5 = South Korea\r\n",
      "#6 = November 30, 2019\r\n",
      "#7 = 2019\r\n",
      "#8 = TV-14\r\n",
      "#9 = 1 Season\r\n",
      "#10 = International TV Shows, Korean TV Shows, Romantic TV Shows\r\n",
      "#11 = Brought together by meaningful meals in the past and present, a doctor and a chef are reacquainted when they begin working at a hospice ward.\r\n",
      "#12 = TV Show\r",
      "\r\n",
      "NF = 12\r\n",
      "#1 = 81197050\r\n",
      "#2 = Guatemala: Heart of the Mayan World\r\n",
      "#3 = Luis Ara, Ignacio Jaunsolo\r\n",
      "#4 = Christian Morales\r\n",
      "#5 =  \r\n",
      "#6 = November 30, 2019\r\n",
      "#7 = 2019\r\n",
      "#8 = TV-G\r\n",
      "#9 = 67 min\r\n",
      "#10 = Documentaries, International Movies\r\n",
      "#11 = From Sierra de las Minas to Esquipulas, explore Guatemala's cultural and geological wealth, including ancient Mayan cities and other natural wonders.\r\n",
      "#12 = Movie\r",
      "\r\n",
      "NF = 12\r\n",
      "#1 = 81213894\r\n",
      "#2 = The Zoya Factor\r\n",
      "#3 = Abhishek Sharma\r\n",
      "#4 = Sonam Kapoor, Dulquer Salmaan, Sanjay Kapoor, Sikander Kher, Angad Bedi, Koel Purie, Pooja Bhamrah, Manu Rishi Chadha\r\n",
      "#5 = India\r\n",
      "#6 = November 30, 2019\r\n",
      "#7 = 2019\r\n",
      "#8 = TV-14\r\n",
      "#9 = 135 min\r\n",
      "#10 = Comedies, Dramas, International Movies\r\n",
      "#11 = A goofy copywriter unwittingly convinces the Indian cricket team that she’s their lucky mascot, to the dismay of their superstition-shunning captain.\r\n",
      "#12 = Movie\r",
      "\r\n",
      "NF = 12\r\n",
      "#1 = 81082007\r\n",
      "#2 = Atlantics\r\n",
      "#3 = Mati Diop\r\n",
      "#4 = Mama Sane, Amadou Mbow, Ibrahima Traore, Nicole Sougou, Amina Kane, Mariama Gassama, Coumba Dieng, Ibrahima Mbaye, Diankou Sembene\r\n",
      "#5 = France, Senegal, Belgium\r\n",
      "#6 = November 29, 2019\r\n",
      "#7 = 2019\r\n",
      "#8 = TV-14\r\n",
      "#9 = 106 min\r\n",
      "#10 = Dramas, Independent Movies, International Movies\r\n",
      "#11 = Arranged to marry a rich man, young Ada is crushed when her true love goes missing at sea during a migration attempt – until a miracle reunites them.\r\n",
      "#12 = Movie\r",
      "\r\n",
      "NF = 12\r\n",
      "#1 = 80213643\r\n",
      "#2 = Chip and Potato\r\n",
      "#3 =  \r\n",
      "#4 = Abigail Oliver, Andrea Libman, Briana Buckmaster, Brian Dobson, Chance Hurstfield, Dominic Good, Emma Jayne Maas, Evan Byarushengo, Scotia Anderson, Alessandro Juliani\r\n",
      "#5 = Canada, United Kingdom\r\n",
      "#6 =  \r\n",
      "#7 = 2019\r\n",
      "#8 = TV-Y\r\n",
      "#9 = 2 Seasons\r\n",
      "#10 = Kids' TV\r\n",
      "#11 = Lovable pug Chip starts kindergarten, makes new friends and tries new things – with a little help from Potato, her secret mouse pal.\r\n",
      "#12 = TV Show\r",
      "\r\n",
      "NF = 12\r\n",
      "#1 = 81172754\r\n",
      "#2 = Crazy people\r\n",
      "#3 = Moses Inwang\r\n",
      "#4 = Ramsey Nouah, Chigul, Sola Sobowale, Ireti Doyle, Ben Touitou, Francis Onwochei, Ememobong Nkana, Emem Inwang, Patrick Onyeke\r\n",
      "#5 = Nigeria\r\n",
      "#6 = November 29, 2019\r\n",
      "#7 = 2018\r\n",
      "#8 = TV-14\r\n",
      "#9 = 107 min\r\n",
      "#10 = Comedies, International Movies, Thrillers\r\n",
      "#11 = Nollywood star Ramsey Nouah learns that someone is impersonating him and breaks out of a mental institution to expose the imposter.\r\n",
      "#12 = Movie\r",
      "\r\n",
      "NF = 12\r\n",
      "#1 = 81120982\r\n",
      "#2 = I Lost My Body\r\n",
      "#3 = Jérémy Clapin\r\n",
      "#4 = Hakim Faris, Victoire Du Bois, Patrick d'Assumçao, Dev Patel, Alia Shawkat, George Wendt\r\n",
      "#5 = France\r\n",
      "#6 = November 29, 2019\r\n",
      "#7 = 2019\r\n",
      "#8 = TV-MA\r\n",
      "#9 = 81 min\r\n",
      "#10 = Dramas, Independent Movies, International Movies\r\n",
      "#11 = Romance, mystery and adventure intertwine as a young man falls in love and a severed hand scours Paris for its owner in this mesmerizing animated film.\r\n",
      "#12 = Movie\r",
      "\r\n",
      "NF = 12\r\n",
      "#1 = 81227195\r\n",
      "#2 = Kalushi: The Story of Solomon Mahlangu\r\n",
      "#3 = Mandla Dube\r\n",
      "#4 = Thabo Rametsi, Thabo Malema, Welile Nzuza, Jafta Mamabolo, Louw Venter, Pearl Thusi\r\n",
      "#5 = South Africa\r\n",
      "#6 = November 29, 2019\r\n",
      "#7 = 2016\r\n",
      "#8 = TV-MA\r\n",
      "#9 = 107 min\r\n",
      "#10 = Dramas, International Movies\r\n",
      "#11 = The life and times of iconic South African liberation fighter Solomon Mahlangu, who battled the forces of apartheid, come into focus.\r\n",
      "#12 = Movie\r",
      "\r\n",
      "NF = 12\r\n",
      "#1 = 70205672\r\n",
      "#2 = La Reina del Sur\r\n",
      "#3 =  \r\n",
      "#4 = Kate del Castillo, Cristina Urgel, Alberto Jiménez, Juan José Arjona, Humberto Zurita, Dagoberto Gama, Christian Tappán, Miguel de Miguel, Salvador Zerboni, Carmen Navarro, Santiago Meléndez, Juan Carlos Solarte\r\n",
      "#5 = United States, Spain, Colombia, Mexico\r\n",
      "#6 =  \r\n",
      "#7 = 2019\r\n",
      "#8 = TV-14\r\n",
      "#9 = 2 Seasons\r\n",
      "#10 = Crime TV Shows, International TV Shows, Spanish-Language TV Shows\r\n",
      "#11 = This compelling show tells the story of the legendary Teresa Mendoza, a courageous woman who is perceived as conquering the world of drug trafficking.\r\n",
      "#12 = TV Show\r",
      "\r\n"
     ]
    }
   ],
   "source": [
    "!head ../../Datasets/netflix_titles_nov_2019.csv | gawk -f netflix_console.awk"
   ]
  },
  {
   "cell_type": "markdown",
   "metadata": {},
   "source": [
    "If this works, process the entire file and write the contents to a new csv file:"
   ]
  },
  {
   "cell_type": "code",
   "execution_count": 2,
   "metadata": {},
   "outputs": [],
   "source": [
    "!cat ../../Datasets/netflix_titles_nov_2019.csv| gawk -f netflix.awk > netflix_filtered.csv"
   ]
  }
 ],
 "metadata": {
  "kernelspec": {
   "display_name": "Python 3",
   "language": "python",
   "name": "python3"
  },
  "language_info": {
   "codemirror_mode": {
    "name": "ipython",
    "version": 3
   },
   "file_extension": ".py",
   "mimetype": "text/x-python",
   "name": "python",
   "nbconvert_exporter": "python",
   "pygments_lexer": "ipython3",
   "version": "3.7.4"
  }
 },
 "nbformat": 4,
 "nbformat_minor": 4
}
