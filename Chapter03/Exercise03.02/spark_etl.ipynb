{
 "cells": [
  {
   "cell_type": "markdown",
   "metadata": {},
   "source": [
    "# Exercise 3.2"
   ]
  },
  {
   "cell_type": "markdown",
   "metadata": {},
   "source": [
    "Import the pySpark libraries"
   ]
  },
  {
   "cell_type": "code",
   "execution_count": 2,
   "metadata": {
    "scrolled": false
   },
   "outputs": [
    {
     "name": "stdout",
     "output_type": "stream",
     "text": [
      "Collecting package metadata (current_repodata.json): done\n",
      "Solving environment: - \n",
      "The environment is inconsistent, please check the package plan carefully\n",
      "The following packages are causing the inconsistency:\n",
      "\n",
      "  - defaults/linux-64::anaconda==2019.10=py37_0\n",
      "  - defaults/noarch::dask==2.5.2=py_0\n",
      "  - defaults/linux-64::statsmodels==0.10.1=py37hdd07704_0\n",
      "  - conda-forge/noarch::pyspark==2.4.5=py_0\n",
      "  - defaults/linux-64::bkcharts==0.2=py37_0\n",
      "  - defaults/linux-64::seaborn==0.9.0=py37_0\n",
      "done\n",
      "\n",
      "## Package Plan ##\n",
      "\n",
      "  environment location: /home/bas/anaconda3\n",
      "\n",
      "  added / updated specs:\n",
      "    - pyspark\n",
      "\n",
      "\n",
      "The following packages will be downloaded:\n",
      "\n",
      "    package                    |            build\n",
      "    ---------------------------|-----------------\n",
      "    _anaconda_depends-2019.03  |           py37_0           6 KB\n",
      "    anaconda-custom            |           py37_1           3 KB\n",
      "    ca-certificates-2020.4.5.1 |       hecc5488_0         146 KB  conda-forge\n",
      "    certifi-2020.4.5.1         |   py37hc8dfbb8_0         151 KB  conda-forge\n",
      "    conda-4.8.3                |   py37hc8dfbb8_1         3.0 MB  conda-forge\n",
      "    openssl-1.1.1f             |       h516909a_0         2.1 MB  conda-forge\n",
      "    pandas-1.0.3               |   py37h0da4684_0        11.1 MB  conda-forge\n",
      "    python_abi-3.7             |          1_cp37m           4 KB  conda-forge\n",
      "    ------------------------------------------------------------\n",
      "                                           Total:        16.6 MB\n",
      "\n",
      "The following NEW packages will be INSTALLED:\n",
      "\n",
      "  _anaconda_depends  pkgs/main/linux-64::_anaconda_depends-2019.03-py37_0\n",
      "  pandas             conda-forge/linux-64::pandas-1.0.3-py37h0da4684_0\n",
      "  python_abi         conda-forge/linux-64::python_abi-3.7-1_cp37m\n",
      "\n",
      "The following packages will be UPDATED:\n",
      "\n",
      "  ca-certificates    pkgs/main::ca-certificates-2019.8.28-0 --> conda-forge::ca-certificates-2020.4.5.1-hecc5488_0\n",
      "  certifi               pkgs/main::certifi-2019.9.11-py37_0 --> conda-forge::certifi-2020.4.5.1-py37hc8dfbb8_0\n",
      "  conda                                        4.8.2-py37_0 --> 4.8.3-py37hc8dfbb8_1\n",
      "  openssl              pkgs/main::openssl-1.1.1d-h7b6447c_2 --> conda-forge::openssl-1.1.1f-h516909a_0\n",
      "\n",
      "The following packages will be DOWNGRADED:\n",
      "\n",
      "  anaconda                                   2019.10-py37_0 --> custom-py37_1\n",
      "\n",
      "\n",
      "\n",
      "Downloading and Extracting Packages\n",
      "ca-certificates-2020 | 146 KB    | ##################################### | 100% \n",
      "anaconda-custom      | 3 KB      | ##################################### | 100% \n",
      "conda-4.8.3          | 3.0 MB    | ##################################### | 100% \n",
      "openssl-1.1.1f       | 2.1 MB    | ##################################### | 100% \n",
      "_anaconda_depends-20 | 6 KB      | ##################################### | 100% \n",
      "certifi-2020.4.5.1   | 151 KB    | ##################################### | 100% \n",
      "python_abi-3.7       | 4 KB      | ##################################### | 100% \n",
      "pandas-1.0.3         | 11.1 MB   | ##################################### | 100% \n",
      "Preparing transaction: done\n",
      "Verifying transaction: done\n",
      "Executing transaction: done\n"
     ]
    }
   ],
   "source": [
    "import sys\n",
    "!conda install --yes --prefix {sys.prefix} -c conda-forge pyspark"
   ]
  },
  {
   "cell_type": "code",
   "execution_count": 3,
   "metadata": {},
   "outputs": [],
   "source": [
    "from pyspark.sql import SparkSession\n",
    "from pyspark.sql.functions import col, split, size\n",
    "spark = SparkSession.builder.appName(\"Packt\").getOrCreate()"
   ]
  },
  {
   "cell_type": "markdown",
   "metadata": {},
   "source": [
    "Connect to a local Spark session"
   ]
  },
  {
   "cell_type": "code",
   "execution_count": 4,
   "metadata": {},
   "outputs": [],
   "source": [
    "spark = SparkSession.builder.appName(\"Packt\").getOrCreate()"
   ]
  },
  {
   "cell_type": "markdown",
   "metadata": {},
   "source": [
    "Read the raw data from a CSV file"
   ]
  },
  {
   "cell_type": "code",
   "execution_count": 5,
   "metadata": {
    "scrolled": false
   },
   "outputs": [
    {
     "name": "stdout",
     "output_type": "stream",
     "text": [
      "+--------+--------------------+--------------------+--------------------+--------------------+-----------------+------------+------+---------+--------------------+--------------------+-------+\n",
      "| show_id|               title|            director|                cast|             country|       date_added|release_year|rating| duration|           listed_in|         description|   type|\n",
      "+--------+--------------------+--------------------+--------------------+--------------------+-----------------+------------+------+---------+--------------------+--------------------+-------+\n",
      "|81193313|           Chocolate|                null|Ha Ji-won, Yoon K...|         South Korea|November 30, 2019|        2019| TV-14| 1 Season|International TV ...|Brought together ...|TV Show|\n",
      "|81197050|Guatemala: Heart ...|Luis Ara, Ignacio...|   Christian Morales|                null|November 30, 2019|        2019|  TV-G|   67 min|Documentaries, In...|From Sierra de la...|  Movie|\n",
      "|81213894|     The Zoya Factor|     Abhishek Sharma|Sonam Kapoor, Dul...|               India|November 30, 2019|        2019| TV-14|  135 min|Comedies, Dramas,...|A goofy copywrite...|  Movie|\n",
      "|81082007|           Atlantics|           Mati Diop|Mama Sane, Amadou...|France, Senegal, ...|November 29, 2019|        2019| TV-14|  106 min|Dramas, Independe...|Arranged to marry...|  Movie|\n",
      "|80213643|     Chip and Potato|                null|Abigail Oliver, A...|Canada, United Ki...|             null|        2019|  TV-Y|2 Seasons|            Kids' TV|Lovable pug Chip ...|TV Show|\n",
      "|81172754|        Crazy people|        Moses Inwang|Ramsey Nouah, Chi...|             Nigeria|November 29, 2019|        2018| TV-14|  107 min|Comedies, Interna...|Nollywood star Ra...|  Movie|\n",
      "|81120982|      I Lost My Body|       Jérémy Clapin|Hakim Faris, Vict...|              France|November 29, 2019|        2019| TV-MA|   81 min|Dramas, Independe...|Romance, mystery ...|  Movie|\n",
      "|81227195|Kalushi: The Stor...|         Mandla Dube|Thabo Rametsi, Th...|        South Africa|November 29, 2019|        2016| TV-MA|  107 min|Dramas, Internati...|The life and time...|  Movie|\n",
      "|70205672|    La Reina del Sur|                null|Kate del Castillo...|United States, Sp...|             null|        2019| TV-14|2 Seasons|Crime TV Shows, I...|This compelling s...|TV Show|\n",
      "|81172841|Lagos Real Fake Life|      Mike Ezuruonye|Nonso Diobi, Mike...|                null|November 29, 2019|        2018| TV-14|  118 min|Comedies, Interna...|Two mooching frie...|  Movie|\n",
      "|81172899|              Payday|        Cheta Chukwu|Baaj Adebule, Ebi...|             Nigeria|November 29, 2019|        2018| TV-MA|  110 min|Comedies, Indepen...|After an expensiv...|  Movie|\n",
      "|81094391|Sugar Rush Christmas|                null|Hunter March, Can...|       United States|November 29, 2019|        2019| TV-PG| 1 Season|          Reality TV|\"It's everything ...|TV Show|\n",
      "|81172908|  The Accidental Spy|       Roger Russell|Ramsey Nouah, Chr...|             Nigeria|November 29, 2019|        2017| TV-14|  104 min|Action & Adventur...|Nursing a broken ...|  Movie|\n",
      "|81152641|The Charming Stepmom|                null|Shahkrit Yamnarm,...|                null|November 29, 2019|        2019| TV-14| 1 Season|International TV ...|A quirky fashion ...|TV Show|\n",
      "|81172901|          The Island|        Toka McBaror|Sambasa Nzeribe, ...|             Nigeria|November 29, 2019|        2018| TV-14|   93 min|Dramas, Internati...|When a colonel un...|  Movie|\n",
      "|80990849|The Movies That M...|                null|                null|       United States|November 29, 2019|        2019| TV-MA| 1 Season|          Docuseries|These blockbuster...|TV Show|\n",
      "|81033086|        Holiday Rush|        Leslie Small|Romany Malco, Son...|       United States|November 28, 2019|        2019| TV-PG|   94 min|Children & Family...|A widowed radio D...|  Movie|\n",
      "|80156799|              Levius|                null|Nobunaga Shimazak...|               Japan|November 28, 2019|        2019| TV-14| 1 Season|Anime Series, Int...|Young Levius rise...|TV Show|\n",
      "|81161538|     Lugar de Mulher|                null|                null|              Brazil|November 28, 2019|        2019| TV-MA| 1 Season|International TV ...|Four comedians fr...|TV Show|\n",
      "|80997965|Merry Happy Whatever|                null|Dennis Quaid, Bri...|       United States|November 28, 2019|        2019| TV-PG| 1 Season|         TV Comedies|A struggling LA m...|TV Show|\n",
      "+--------+--------------------+--------------------+--------------------+--------------------+-----------------+------------+------+---------+--------------------+--------------------+-------+\n",
      "only showing top 20 rows\n",
      "\n"
     ]
    }
   ],
   "source": [
    "data = spark.read.csv('../../Datasets/netflix_titles_nov_2019.csv', header='true')\n",
    "data.show()"
   ]
  },
  {
   "cell_type": "markdown",
   "metadata": {},
   "source": [
    "Take only the movies"
   ]
  },
  {
   "cell_type": "code",
   "execution_count": 7,
   "metadata": {},
   "outputs": [
    {
     "name": "stdout",
     "output_type": "stream",
     "text": [
      "+--------+--------------------+--------------------+--------------------+--------------------+-----------------+------------+------+--------+--------------------+--------------------+-----+\n",
      "| show_id|               title|            director|                cast|             country|       date_added|release_year|rating|duration|           listed_in|         description| type|\n",
      "+--------+--------------------+--------------------+--------------------+--------------------+-----------------+------------+------+--------+--------------------+--------------------+-----+\n",
      "|81197050|Guatemala: Heart ...|Luis Ara, Ignacio...|   Christian Morales|                null|November 30, 2019|        2019|  TV-G|  67 min|Documentaries, In...|From Sierra de la...|Movie|\n",
      "|81213894|     The Zoya Factor|     Abhishek Sharma|Sonam Kapoor, Dul...|               India|November 30, 2019|        2019| TV-14| 135 min|Comedies, Dramas,...|A goofy copywrite...|Movie|\n",
      "|81082007|           Atlantics|           Mati Diop|Mama Sane, Amadou...|France, Senegal, ...|November 29, 2019|        2019| TV-14| 106 min|Dramas, Independe...|Arranged to marry...|Movie|\n",
      "|81120982|      I Lost My Body|       Jérémy Clapin|Hakim Faris, Vict...|              France|November 29, 2019|        2019| TV-MA|  81 min|Dramas, Independe...|Romance, mystery ...|Movie|\n",
      "|81033086|        Holiday Rush|        Leslie Small|Romany Malco, Son...|       United States|November 28, 2019|        2019| TV-PG|  94 min|Children & Family...|A widowed radio D...|Movie|\n",
      "|81194544| Evvarikee Cheppoddu|Basava Shankar Eeday|Rakesh Varre, Gar...|               India|November 27, 2019|        2019| TV-14| 134 min|Comedies, Interna...|When caste differ...|Movie|\n",
      "|80995081|Little Singham: M...|       Prakash Satam|Saumya Daan, Sona...|                null|November 27, 2019|        2019| TV-Y7|  69 min|Children & Family...|In a journey back...|Movie|\n",
      "|81177504|The Body Remember...|Elle-Máijá Tailfe...|Violet Nelson, El...|      Canada, Norway|November 27, 2019|        2019| TV-MA| 106 min|Dramas, Independe...|After a traumatic...|Movie|\n",
      "|80175798|        The Irishman|     Martin Scorsese|Robert De Niro, A...|       United States|November 27, 2019|        2019|     R| 209 min|              Dramas|Hit man Frank She...|Movie|\n",
      "|81062293|Mike Birbiglia: T...|        Seth Barrish|      Mike Birbiglia|       United States|November 26, 2019|        2019| TV-MA|  86 min|     Stand-Up Comedy|Comedian Mike Bir...|Movie|\n",
      "|80235524|Super Monsters Sa...|          Steve Ball|Elyse Maloway, Vi...|       United States|November 26, 2019|        2019|  TV-Y|  24 min|Children & Family...|It's Christmas Ev...|Movie|\n",
      "|81035121| True: Winter Wishes|                null|Michela Luci, Jam...|                null|November 26, 2019|        2019|  TV-Y|  46 min|              Movies|An ice crystal fr...|Movie|\n",
      "|81215481|             Pranaam|      Sanjiv Jaiswal|Rajeev Khandelwal...|               India|November 25, 2019|        2019| TV-MA| 117 min|Action & Adventur...|Aspiring to fulfi...|Movie|\n",
      "|81005044|What the F* Is Go...|Marta Jaenes, Ros...|                null|                null|November 25, 2019|        2019| TV-MA|  87 min|Documentaries, In...|Featuring extensi...|Movie|\n",
      "|81218079|               Awake|Aleksandr Chernya...|Jonathan Rhys Mey...|       United States|November 24, 2019|        2019| TV-MA|  92 min|           Thrillers|After an accident...|Movie|\n",
      "|80198859|             Brother|      Julien Abraham|MHD, Darren Musel...|              France|November 22, 2019|        2019| TV-MA|  97 min|Dramas, Independe...|Thrust from a vio...|Movie|\n",
      "|81218074|     Shelby American|Nate Adams, Adam ...|      Carroll Shelby|       United States|November 22, 2019|        2019| TV-14| 119 min|Documentaries, Sp...|Featuring intervi...|Movie|\n",
      "|81026188|The Knight Before...|     Monika Mitchell|Vanessa Hudgens, ...|       United States|November 21, 2019|        2019| TV-14|  93 min|Children & Family...|Medieval magic se...|Movie|\n",
      "|80221584|Bikram: Yogi, Gur...|           Eva Orner|    Bikram Choudhury|       United States|November 20, 2019|        2019| TV-MA|  86 min|       Documentaries|This documentary ...|Movie|\n",
      "|81217738|           Dorasaani|        KVR Mahendra|Anand Deverakonda...|               India|November 20, 2019|        2019| TV-14| 134 min|Dramas, Internati...|A village landlor...|Movie|\n",
      "+--------+--------------------+--------------------+--------------------+--------------------+-----------------+------------+------+--------+--------------------+--------------------+-----+\n",
      "only showing top 20 rows\n",
      "\n"
     ]
    }
   ],
   "source": [
    "movies = data.filter((col('type') == 'Movie') & (col('release_year') == 2019))\n",
    "movies.show()"
   ]
  },
  {
   "cell_type": "markdown",
   "metadata": {},
   "source": [
    "Add a column with the number of actors"
   ]
  },
  {
   "cell_type": "code",
   "execution_count": 8,
   "metadata": {},
   "outputs": [],
   "source": [
    "transformed = movies.withColumn('count_cast', size(split(movies['cast'], ',')))"
   ]
  },
  {
   "cell_type": "markdown",
   "metadata": {},
   "source": [
    "Select a subset of columns to store"
   ]
  },
  {
   "cell_type": "code",
   "execution_count": 9,
   "metadata": {},
   "outputs": [
    {
     "name": "stdout",
     "output_type": "stream",
     "text": [
      "+--------------------+--------------------+----------+--------------------+------+------------+-----+\n",
      "|               title|            director|count_cast|                cast|rating|release_year| type|\n",
      "+--------------------+--------------------+----------+--------------------+------+------------+-----+\n",
      "|Guatemala: Heart ...|Luis Ara, Ignacio...|         1|   Christian Morales|  TV-G|        2019|Movie|\n",
      "|     The Zoya Factor|     Abhishek Sharma|         8|Sonam Kapoor, Dul...| TV-14|        2019|Movie|\n",
      "|           Atlantics|           Mati Diop|         9|Mama Sane, Amadou...| TV-14|        2019|Movie|\n",
      "|      I Lost My Body|       Jérémy Clapin|         6|Hakim Faris, Vict...| TV-MA|        2019|Movie|\n",
      "|        Holiday Rush|        Leslie Small|         9|Romany Malco, Son...| TV-PG|        2019|Movie|\n",
      "| Evvarikee Cheppoddu|Basava Shankar Eeday|         5|Rakesh Varre, Gar...| TV-14|        2019|Movie|\n",
      "|Little Singham: M...|       Prakash Satam|         5|Saumya Daan, Sona...| TV-Y7|        2019|Movie|\n",
      "|The Body Remember...|Elle-Máijá Tailfe...|        10|Violet Nelson, El...| TV-MA|        2019|Movie|\n",
      "|        The Irishman|     Martin Scorsese|        20|Robert De Niro, A...|     R|        2019|Movie|\n",
      "|Mike Birbiglia: T...|        Seth Barrish|         1|      Mike Birbiglia| TV-MA|        2019|Movie|\n",
      "|Super Monsters Sa...|          Steve Ball|        12|Elyse Maloway, Vi...|  TV-Y|        2019|Movie|\n",
      "| True: Winter Wishes|                null|         8|Michela Luci, Jam...|  TV-Y|        2019|Movie|\n",
      "|             Pranaam|      Sanjiv Jaiswal|         8|Rajeev Khandelwal...| TV-MA|        2019|Movie|\n",
      "|What the F* Is Go...|Marta Jaenes, Ros...|        -1|                null| TV-MA|        2019|Movie|\n",
      "|               Awake|Aleksandr Chernya...|         6|Jonathan Rhys Mey...| TV-MA|        2019|Movie|\n",
      "|             Brother|      Julien Abraham|         7|MHD, Darren Musel...| TV-MA|        2019|Movie|\n",
      "|     Shelby American|Nate Adams, Adam ...|         1|      Carroll Shelby| TV-14|        2019|Movie|\n",
      "|The Knight Before...|     Monika Mitchell|         8|Vanessa Hudgens, ...| TV-14|        2019|Movie|\n",
      "|Bikram: Yogi, Gur...|           Eva Orner|         1|    Bikram Choudhury| TV-MA|        2019|Movie|\n",
      "|           Dorasaani|        KVR Mahendra|         3|Anand Deverakonda...| TV-14|        2019|Movie|\n",
      "+--------------------+--------------------+----------+--------------------+------+------------+-----+\n",
      "only showing top 20 rows\n",
      "\n"
     ]
    }
   ],
   "source": [
    "selected = transformed.select('title', 'director', 'count_cast', 'cast', 'rating', 'release_year', 'type')\n",
    "selected.show()"
   ]
  },
  {
   "cell_type": "markdown",
   "metadata": {},
   "source": [
    "Write the contents of the DataFrame to disk"
   ]
  },
  {
   "cell_type": "code",
   "execution_count": 11,
   "metadata": {},
   "outputs": [],
   "source": [
    "selected.write.csv('transformed', header='true')"
   ]
  },
  {
   "cell_type": "code",
   "execution_count": 12,
   "metadata": {},
   "outputs": [
    {
     "name": "stdout",
     "output_type": "stream",
     "text": [
      "title,director,count_cast,cast,rating,release_year,type\r\n",
      "Guatemala: Heart of the Mayan World,\"Luis Ara, Ignacio Jaunsolo\",1,Christian Morales,TV-G,2019,Movie\r\n",
      "The Zoya Factor,Abhishek Sharma,8,\"Sonam Kapoor, Dulquer Salmaan, Sanjay Kapoor, Sikander Kher, Angad Bedi, Koel Purie, Pooja Bhamrah, Manu Rishi Chadha\",TV-14,2019,Movie\r\n",
      "Atlantics,Mati Diop,9,\"Mama Sane, Amadou Mbow, Ibrahima Traore, Nicole Sougou, Amina Kane, Mariama Gassama, Coumba Dieng, Ibrahima Mbaye, Diankou Sembene\",TV-14,2019,Movie\r\n",
      "I Lost My Body,Jérémy Clapin,6,\"Hakim Faris, Victoire Du Bois, Patrick d'Assumçao, Dev Patel, Alia Shawkat, George Wendt\",TV-MA,2019,Movie\r\n",
      "Holiday Rush,Leslie Small,9,\"Romany Malco, Sonequa Martin-Green, Darlene Love, Deon Cole, La La Anthony, Deysha Nelson, Amarr M. Wooten, Selena-Marie Alphonse, Andrea-Marie Alphonse\",TV-PG,2019,Movie\r\n",
      "Evvarikee Cheppoddu,Basava Shankar Eeday,5,\"Rakesh Varre, Gargeyi, Vamsi raj Nekkanti, D P Ghani, K Prasanna\",TV-14,2019,Movie\r\n",
      "Little Singham: Mahabali,Prakash Satam,5,\"Saumya Daan, Sonal Kaushal, Anamaya Verma, Ganesh Divekar, Neshma Chemburkar\",TV-Y7,2019,Movie\r\n",
      "The Body Remembers When the World Broke Open,\"Elle-Máijá Tailfeathers, Kathleen Hepburn\",10,\"Violet Nelson, Elle-Máijá Tailfeathers, Charlie Hannah, Barbara Eve Harris, Sonny Surowiec, Jay Cardinal Villeneuve, Tony Massil, Aidan Dee, James Angus Cowan, Anthony Bolognese\",TV-MA,2019,Movie\r\n",
      "The Irishman,Martin Scorsese,20,\"Robert De Niro, Al Pacino, Joe Pesci, Harvey Keitel, Ray Romano, Bobby Cannavale, Anna Paquin, Stephen Graham, Stephanie Kurtzuba, Kathrine Narducci, Welker White, Jesse Plemons, Jack Huston, Domenick Lombardozzi, Louis Cancelmi, Paul Herman, Gary Basaraba, Marin Ireland, Sebastian Maniscalco, Steven Van Zandt\",R,2019,Movie\r\n"
     ]
    }
   ],
   "source": [
    "# note: the actual name of the csv file ('part-....') differs on each run\n",
    "!head transformed/part-00000-873224d4-6aa0-4df8-bb63-2d75aae9e706-c000.csv"
   ]
  }
 ],
 "metadata": {
  "kernelspec": {
   "display_name": "Python 3",
   "language": "python",
   "name": "python3"
  },
  "language_info": {
   "codemirror_mode": {
    "name": "ipython",
    "version": 3
   },
   "file_extension": ".py",
   "mimetype": "text/x-python",
   "name": "python",
   "nbconvert_exporter": "python",
   "pygments_lexer": "ipython3",
   "version": "3.7.4"
  }
 },
 "nbformat": 4,
 "nbformat_minor": 4
}
