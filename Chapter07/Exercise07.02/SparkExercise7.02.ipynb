{
 "cells": [
  {
   "cell_type": "code",
   "execution_count": 1,
   "metadata": {},
   "outputs": [
    {
     "data": {
      "text/html": [
       "<style scoped>\n",
       "  .table-result-container {\n",
       "    max-height: 300px;\n",
       "    overflow: auto;\n",
       "  }\n",
       "  table, th, td {\n",
       "    border: 1px solid black;\n",
       "    border-collapse: collapse;\n",
       "  }\n",
       "  th, td {\n",
       "    padding: 5px;\n",
       "  }\n",
       "  th {\n",
       "    text-align: left;\n",
       "  }\n",
       "</style><div class='table-result-container'><table class='table-result'><thead style='background-color: white'><tr><th>Day</th><th>Temperature</th></tr></thead><tbody><tr><td>01-Jul-19</td><td>27</td></tr><tr><td>02-Jul-19</td><td>32</td></tr><tr><td>03-Jul-19</td><td>32</td></tr><tr><td>04-Jul-19</td><td>31</td></tr><tr><td>05-Jul-19</td><td>31</td></tr><tr><td>06-Jul-19</td><td>32</td></tr><tr><td>07-Jul-19</td><td>28</td></tr><tr><td>08-Jul-19</td><td>25</td></tr><tr><td>09-Jul-19</td><td>28</td></tr><tr><td>10-Jul-19</td><td>29</td></tr><tr><td>11-Jul-19</td><td>32</td></tr><tr><td>12-Jul-19</td><td>31</td></tr><tr><td>13-Jul-19</td><td>30</td></tr><tr><td>14-Jul-19</td><td>33</td></tr><tr><td>15-Jul-19</td><td>30</td></tr><tr><td>16-Jul-19</td><td>33</td></tr><tr><td>17-Jul-19</td><td>35</td></tr><tr><td>18-Jul-19</td><td>33</td></tr><tr><td>19-Jul-19</td><td>34</td></tr><tr><td>20-Jul-19</td><td>35</td></tr><tr><td>21-Jul-19</td><td>36</td></tr><tr><td>22-Jul-19</td><td>35</td></tr><tr><td>23-Jul-19</td><td>25</td></tr><tr><td>24-Jul-19</td><td>27</td></tr><tr><td>25-Jul-19</td><td>28</td></tr><tr><td>26-Jul-19</td><td>28</td></tr><tr><td>27-Jul-19</td><td>27</td></tr><tr><td>28-Jul-19</td><td>21</td></tr><tr><td>29-Jul-19</td><td>33</td></tr><tr><td>30-Jul-19</td><td>33</td></tr><tr><td>31-Jul-19</td><td>21</td></tr></tbody></table></div>"
      ]
     },
     "metadata": {},
     "output_type": "display_data"
    }
   ],
   "source": [
    "# temperature of California for the month of July 2019\n",
    "# https://www.accuweather.com/en/us/california/20619/july-weather/2121532?year=2019 \n",
    "inTempMonth1inC = spark.read.format('csv').options(header='true', inferSchema='true').load('/FileStore/tables/JulyTemp.csv')\n",
    "display(inTempMonth1inC)"
   ]
  },
  {
   "cell_type": "code",
   "execution_count": 2,
   "metadata": {},
   "outputs": [
    {
     "data": {
      "text/html": [
       "<style scoped>\n",
       "  .table-result-container {\n",
       "    max-height: 300px;\n",
       "    overflow: auto;\n",
       "  }\n",
       "  table, th, td {\n",
       "    border: 1px solid black;\n",
       "    border-collapse: collapse;\n",
       "  }\n",
       "  th, td {\n",
       "    padding: 5px;\n",
       "  }\n",
       "  th {\n",
       "    text-align: left;\n",
       "  }\n",
       "</style><div class='table-result-container'><table class='table-result'><thead style='background-color: white'><tr><th>Day</th><th>Temperature in F</th></tr></thead><tbody><tr><td>01-Jul-19</td><td>80.6</td></tr><tr><td>02-Jul-19</td><td>89.6</td></tr><tr><td>03-Jul-19</td><td>89.6</td></tr><tr><td>04-Jul-19</td><td>87.8</td></tr><tr><td>05-Jul-19</td><td>87.8</td></tr><tr><td>06-Jul-19</td><td>89.6</td></tr><tr><td>07-Jul-19</td><td>82.4</td></tr><tr><td>08-Jul-19</td><td>77.0</td></tr><tr><td>09-Jul-19</td><td>82.4</td></tr><tr><td>10-Jul-19</td><td>84.2</td></tr><tr><td>11-Jul-19</td><td>89.6</td></tr><tr><td>12-Jul-19</td><td>87.8</td></tr><tr><td>13-Jul-19</td><td>86.0</td></tr><tr><td>14-Jul-19</td><td>91.4</td></tr><tr><td>15-Jul-19</td><td>86.0</td></tr><tr><td>16-Jul-19</td><td>91.4</td></tr><tr><td>17-Jul-19</td><td>95.0</td></tr><tr><td>18-Jul-19</td><td>91.4</td></tr><tr><td>19-Jul-19</td><td>93.2</td></tr><tr><td>20-Jul-19</td><td>95.0</td></tr><tr><td>21-Jul-19</td><td>96.8</td></tr><tr><td>22-Jul-19</td><td>95.0</td></tr><tr><td>23-Jul-19</td><td>77.0</td></tr><tr><td>24-Jul-19</td><td>80.6</td></tr><tr><td>25-Jul-19</td><td>82.4</td></tr><tr><td>26-Jul-19</td><td>82.4</td></tr><tr><td>27-Jul-19</td><td>80.6</td></tr><tr><td>28-Jul-19</td><td>69.8</td></tr><tr><td>29-Jul-19</td><td>91.4</td></tr><tr><td>30-Jul-19</td><td>91.4</td></tr><tr><td>31-Jul-19</td><td>69.8</td></tr></tbody></table></div>"
      ]
     },
     "metadata": {},
     "output_type": "display_data"
    }
   ],
   "source": [
    "#Converting Celsuis into Fahrenheit\n",
    "outTempMonthinF = inTempMonth1inC.select(inTempMonth1inC['Day'], (inTempMonth1inC['Temperature']*9/5)+32) \n",
    "newcolnames = ['Day','Temperature in F']\n",
    "for old,new in zip(outTempMonthinF.columns,newcolnames):\n",
    "  outTempMonthinF=outTempMonthinF.withColumnRenamed(old,new)   \n",
    "display(outTempMonthinF)"
   ]
  },
  {
   "cell_type": "code",
   "execution_count": 3,
   "metadata": {},
   "outputs": [
    {
     "data": {
      "text/html": [
       "<style scoped>\n",
       "  .table-result-container {\n",
       "    max-height: 300px;\n",
       "    overflow: auto;\n",
       "  }\n",
       "  table, th, td {\n",
       "    border: 1px solid black;\n",
       "    border-collapse: collapse;\n",
       "  }\n",
       "  th, td {\n",
       "    padding: 5px;\n",
       "  }\n",
       "  th {\n",
       "    text-align: left;\n",
       "  }\n",
       "</style><div class='table-result-container'><table class='table-result'><thead style='background-color: white'><tr><th>Day</th><th>Temperature</th></tr></thead><tbody><tr><td>02-Jul-19</td><td>32</td></tr><tr><td>03-Jul-19</td><td>32</td></tr><tr><td>04-Jul-19</td><td>31</td></tr><tr><td>05-Jul-19</td><td>31</td></tr><tr><td>06-Jul-19</td><td>32</td></tr><tr><td>11-Jul-19</td><td>32</td></tr><tr><td>12-Jul-19</td><td>31</td></tr><tr><td>13-Jul-19</td><td>30</td></tr><tr><td>14-Jul-19</td><td>33</td></tr><tr><td>15-Jul-19</td><td>30</td></tr><tr><td>16-Jul-19</td><td>33</td></tr><tr><td>17-Jul-19</td><td>35</td></tr><tr><td>18-Jul-19</td><td>33</td></tr><tr><td>19-Jul-19</td><td>34</td></tr><tr><td>20-Jul-19</td><td>35</td></tr><tr><td>21-Jul-19</td><td>36</td></tr><tr><td>22-Jul-19</td><td>35</td></tr><tr><td>29-Jul-19</td><td>33</td></tr><tr><td>30-Jul-19</td><td>33</td></tr></tbody></table></div>"
      ]
     },
     "metadata": {},
     "output_type": "display_data"
    }
   ],
   "source": [
    "#Days with temperature greater than or equal to 30 degree Celsius\n",
    "outTempHighinC = inTempMonth1inC.filter(inTempMonth1inC.Temperature >= 30) \n",
    "display(outTempHighinC)"
   ]
  },
  {
   "cell_type": "code",
   "execution_count": 4,
   "metadata": {},
   "outputs": [
    {
     "data": {
      "text/html": [
       "<style scoped>\n",
       "  .table-result-container {\n",
       "    max-height: 300px;\n",
       "    overflow: auto;\n",
       "  }\n",
       "  table, th, td {\n",
       "    border: 1px solid black;\n",
       "    border-collapse: collapse;\n",
       "  }\n",
       "  th, td {\n",
       "    padding: 5px;\n",
       "  }\n",
       "  th {\n",
       "    text-align: left;\n",
       "  }\n",
       "</style><div class='table-result-container'><table class='table-result'><thead style='background-color: white'><tr><th>Day</th><th>Temperature</th></tr></thead><tbody><tr><td>08-Jul-19</td><td>25</td></tr><tr><td>23-Jul-19</td><td>25</td></tr><tr><td>28-Jul-19</td><td>21</td></tr><tr><td>31-Jul-19</td><td>21</td></tr></tbody></table></div>"
      ]
     },
     "metadata": {},
     "output_type": "display_data"
    }
   ],
   "source": [
    "#finding the days with temperature less than or equal to 25 degree Celsius\n",
    "outTempLowinC = inTempMonth1inC.filter(inTempMonth1inC.Temperature <= 25) \n",
    "display(outTempLowinC)"
   ]
  }
 ],
 "metadata": {
  "kernelspec": {
   "display_name": "Python 3",
   "language": "python",
   "name": "python3"
  },
  "language_info": {
   "codemirror_mode": {
    "name": "ipython",
    "version": 3
   },
   "file_extension": ".py",
   "mimetype": "text/x-python",
   "name": "python",
   "nbconvert_exporter": "python",
   "pygments_lexer": "ipython3",
   "version": "3.7.6"
  },
  "name": "SparkExercise7.02v1",
  "notebookId": 595035484394052
 },
 "nbformat": 4,
 "nbformat_minor": 1
}
