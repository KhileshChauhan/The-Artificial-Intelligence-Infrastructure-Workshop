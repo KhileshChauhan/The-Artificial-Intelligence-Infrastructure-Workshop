{
 "cells": [
  {
   "cell_type": "markdown",
   "metadata": {},
   "source": [
    "1.\tCreate a list of at least 15 words which you think might have a positive or negative prejudice.\n"
   ]
  },
  {
   "cell_type": "code",
   "execution_count": 1,
   "metadata": {},
   "outputs": [],
   "source": [
    "words = \"\"\"sporty\n",
    "nerdy\n",
    "employed\n",
    "unemployed\n",
    "clever\n",
    "stupid\n",
    "latino\n",
    "asian\n",
    "caucasian\n",
    "disabled\n",
    "pregnant\n",
    "introvert\n",
    "extrovert\n",
    "politician\n",
    "florist\n",
    "CEO\"\"\""
   ]
  },
  {
   "cell_type": "markdown",
   "metadata": {},
   "source": [
    "In the above code, we added 16 words to our list."
   ]
  },
  {
   "cell_type": "markdown",
   "metadata": {},
   "source": [
    "2.\tDefine the same classification model that we used in previous exercises."
   ]
  },
  {
   "cell_type": "code",
   "execution_count": 2,
   "metadata": {},
   "outputs": [],
   "source": [
    "import spacy\n",
    "nlp = spacy.load('en_core_web_lg')\n",
    "\n",
    "\n",
    "def polarity_good_vs_bad(word):\n",
    "    \"\"\"Returns a positive number if a word is closer to good than it is to bad, or a negative number if vice versa\n",
    "    IN: word (str): the word to compare\n",
    "    OUT: diff (float): positive if the word is closer to good, otherwise negative\n",
    "    \"\"\"\n",
    "\n",
    "    good = nlp(\"good\")\n",
    "    bad = nlp(\"bad\")\n",
    "    word = nlp(word)\n",
    "    if word and word.vector_norm:\n",
    "        sim_good = word.similarity(good)\n",
    "        sim_bad = word.similarity(bad)\n",
    "        diff = sim_good - sim_bad\n",
    "        diff = round(diff * 100, 2)\n",
    "        return diff \n",
    "    else:\n",
    "        return None\n",
    "    "
   ]
  },
  {
   "cell_type": "markdown",
   "metadata": {},
   "source": [
    "In the above code, we defined our basic sentiment classification model again. It takes in a word and checks whether it is closer to 'good' or closer to 'bad'."
   ]
  },
  {
   "cell_type": "markdown",
   "metadata": {},
   "source": [
    "3.\tBefore running the code, guess whether each of the words you chose would be classifier as a positive or negative word.\n"
   ]
  },
  {
   "cell_type": "code",
   "execution_count": 3,
   "metadata": {},
   "outputs": [
    {
     "data": {
      "text/plain": [
       "'sporty : POS\\nnerdy : NEG\\nemployed : POS\\nunemployed : NEG\\nclever : POS \\nstupid : NEG\\nlatino : NEG\\nasian : NEG\\ncaucasian : POS\\ndisabled : NEG \\npregnant : NEG\\nintrovert : NEG\\nextrovert : POS\\npolitician : NEG\\nflorist : POS \\nCEO: NEG'"
      ]
     },
     "execution_count": 3,
     "metadata": {},
     "output_type": "execute_result"
    }
   ],
   "source": [
    "# Guesses \n",
    "\"\"\"sporty : POS\n",
    "nerdy : NEG\n",
    "employed : POS\n",
    "unemployed : NEG\n",
    "clever : POS \n",
    "stupid : NEG\n",
    "latino : NEG\n",
    "asian : NEG\n",
    "caucasian : POS\n",
    "disabled : NEG \n",
    "pregnant : NEG\n",
    "introvert : NEG\n",
    "extrovert : POS\n",
    "politician : NEG\n",
    "florist : POS \n",
    "CEO: NEG\"\"\""
   ]
  },
  {
   "cell_type": "markdown",
   "metadata": {},
   "source": [
    "In the above, we add \"POS\" (positive) or \"NEG\" (negative) next to the words in our list, guessing their polarity."
   ]
  },
  {
   "cell_type": "markdown",
   "metadata": {},
   "source": [
    "4.\tRun the classifier on the word list and see how close your predictions were, as shown in the following code."
   ]
  },
  {
   "cell_type": "code",
   "execution_count": 4,
   "metadata": {},
   "outputs": [
    {
     "name": "stdout",
     "output_type": "stream",
     "text": [
      "sporty 13.26\n",
      "nerdy -6.96\n",
      "employed 4.46\n",
      "unemployed -9.36\n",
      "clever 7.27\n",
      "stupid -24.37\n",
      "latino -5.41\n",
      "asian -4.76\n",
      "caucasian 1.08\n",
      "disabled -8.82\n",
      "pregnant -8.14\n",
      "introvert -0.36\n",
      "extrovert 3.92\n",
      "politician -5.98\n",
      "florist 6.96\n",
      "CEO -7.16\n"
     ]
    }
   ],
   "source": [
    "for word in words.split(\"\\n\"):\n",
    "    print(word, polarity_good_vs_bad(word))"
   ]
  },
  {
   "cell_type": "markdown",
   "metadata": {},
   "source": [
    "In the above code, we looped through all of the words in our list and calculated their polarity. We can see that our predictions were right in all cases."
   ]
  },
  {
   "cell_type": "code",
   "execution_count": null,
   "metadata": {},
   "outputs": [],
   "source": []
  },
  {
   "cell_type": "code",
   "execution_count": null,
   "metadata": {},
   "outputs": [],
   "source": []
  }
 ],
 "metadata": {
  "kernelspec": {
   "display_name": "Python 3",
   "language": "python",
   "name": "python3"
  },
  "language_info": {
   "codemirror_mode": {
    "name": "ipython",
    "version": 3
   },
   "file_extension": ".py",
   "mimetype": "text/x-python",
   "name": "python",
   "nbconvert_exporter": "python",
   "pygments_lexer": "ipython3",
   "version": "3.7.6"
  }
 },
 "nbformat": 4,
 "nbformat_minor": 2
}
